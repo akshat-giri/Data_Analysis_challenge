{
 "cells": [
  {
   "cell_type": "markdown",
   "id": "bddcd57b",
   "metadata": {},
   "source": [
    "## Dataset: https://www.kaggle.com/datasets/gunapro/student-behavior"
   ]
  },
  {
   "cell_type": "markdown",
   "id": "86eaa559",
   "metadata": {},
   "source": [
    "### 1. I will import important libraries"
   ]
  },
  {
   "cell_type": "code",
   "execution_count": 6,
   "id": "2fb26856",
   "metadata": {},
   "outputs": [],
   "source": [
    "import pandas as pd\n",
    "import numpy as np\n",
    "import matplotlib.pyplot as plt\n",
    "import seaborn as sns\n",
    "%matplotlib inline"
   ]
  },
  {
   "cell_type": "markdown",
   "id": "9b2163d8",
   "metadata": {},
   "source": [
    "### if needed to install seaborn\n",
    "!pip install seaborn  \n",
    "### if needed to install matplotlib\n",
    "!pip install matplotlib \n"
   ]
  },
  {
   "cell_type": "markdown",
   "id": "db0664df",
   "metadata": {},
   "source": [
    "<h1></h1>"
   ]
  },
  {
   "cell_type": "markdown",
   "id": "18047ab6",
   "metadata": {},
   "source": [
    "## 2. Importing the dataset"
   ]
  },
  {
   "cell_type": "code",
   "execution_count": 7,
   "id": "9534d397",
   "metadata": {},
   "outputs": [
    {
     "data": {
      "text/html": [
       "<div>\n",
       "<style scoped>\n",
       "    .dataframe tbody tr th:only-of-type {\n",
       "        vertical-align: middle;\n",
       "    }\n",
       "\n",
       "    .dataframe tbody tr th {\n",
       "        vertical-align: top;\n",
       "    }\n",
       "\n",
       "    .dataframe thead th {\n",
       "        text-align: right;\n",
       "    }\n",
       "</style>\n",
       "<table border=\"1\" class=\"dataframe\">\n",
       "  <thead>\n",
       "    <tr style=\"text-align: right;\">\n",
       "      <th></th>\n",
       "      <th>Have you completed any certification courses, or are you currently enrolled in any?</th>\n",
       "      <th>Gender</th>\n",
       "      <th>Department</th>\n",
       "      <th>Height(CM)</th>\n",
       "      <th>Weight(KG)</th>\n",
       "      <th>10th Mark</th>\n",
       "      <th>12th Mark</th>\n",
       "      <th>college mark</th>\n",
       "      <th>hobbies</th>\n",
       "      <th>daily studing time</th>\n",
       "      <th>prefer to study in</th>\n",
       "      <th>salary expectation</th>\n",
       "      <th>Do you like your degree?</th>\n",
       "      <th>possibility of choosing  their career based on their degree :</th>\n",
       "      <th>social medai &amp; video games spending Time</th>\n",
       "      <th>Travelling Time</th>\n",
       "      <th>Stress Level</th>\n",
       "      <th>Financial Status</th>\n",
       "      <th>Are you doing a part-time job right now?</th>\n",
       "    </tr>\n",
       "  </thead>\n",
       "  <tbody>\n",
       "    <tr>\n",
       "      <th>0</th>\n",
       "      <td>No</td>\n",
       "      <td>Male</td>\n",
       "      <td>BCA</td>\n",
       "      <td>100.0</td>\n",
       "      <td>58.0</td>\n",
       "      <td>79.0</td>\n",
       "      <td>65.0</td>\n",
       "      <td>80.0</td>\n",
       "      <td>Video Games</td>\n",
       "      <td>0 - 30 minute</td>\n",
       "      <td>Morning</td>\n",
       "      <td>40000</td>\n",
       "      <td>No</td>\n",
       "      <td>50%</td>\n",
       "      <td>1.30 - 2 hour</td>\n",
       "      <td>30 - 60 minutes</td>\n",
       "      <td>Bad</td>\n",
       "      <td>Bad</td>\n",
       "      <td>No</td>\n",
       "    </tr>\n",
       "    <tr>\n",
       "      <th>1</th>\n",
       "      <td>No</td>\n",
       "      <td>Female</td>\n",
       "      <td>BCA</td>\n",
       "      <td>90.0</td>\n",
       "      <td>40.0</td>\n",
       "      <td>70.0</td>\n",
       "      <td>80.0</td>\n",
       "      <td>70.0</td>\n",
       "      <td>Cinema</td>\n",
       "      <td>30 - 60 minute</td>\n",
       "      <td>Morning</td>\n",
       "      <td>15000</td>\n",
       "      <td>Yes</td>\n",
       "      <td>75%</td>\n",
       "      <td>1 - 1.30 hour</td>\n",
       "      <td>0 - 30 minutes</td>\n",
       "      <td>Bad</td>\n",
       "      <td>Bad</td>\n",
       "      <td>No</td>\n",
       "    </tr>\n",
       "    <tr>\n",
       "      <th>2</th>\n",
       "      <td>Yes</td>\n",
       "      <td>Male</td>\n",
       "      <td>BCA</td>\n",
       "      <td>159.0</td>\n",
       "      <td>78.0</td>\n",
       "      <td>69.5</td>\n",
       "      <td>61.0</td>\n",
       "      <td>55.0</td>\n",
       "      <td>Cinema</td>\n",
       "      <td>1 - 2 Hour</td>\n",
       "      <td>Anytime</td>\n",
       "      <td>13000</td>\n",
       "      <td>Yes</td>\n",
       "      <td>50%</td>\n",
       "      <td>More than 2 hour</td>\n",
       "      <td>30 - 60 minutes</td>\n",
       "      <td>Awful</td>\n",
       "      <td>Bad</td>\n",
       "      <td>No</td>\n",
       "    </tr>\n",
       "    <tr>\n",
       "      <th>3</th>\n",
       "      <td>Yes</td>\n",
       "      <td>Female</td>\n",
       "      <td>BCA</td>\n",
       "      <td>147.0</td>\n",
       "      <td>20.0</td>\n",
       "      <td>70.0</td>\n",
       "      <td>59.0</td>\n",
       "      <td>58.0</td>\n",
       "      <td>Reading books</td>\n",
       "      <td>1 - 2 Hour</td>\n",
       "      <td>Anytime</td>\n",
       "      <td>1500000</td>\n",
       "      <td>No</td>\n",
       "      <td>50%</td>\n",
       "      <td>1.30 - 2 hour</td>\n",
       "      <td>0 - 30 minutes</td>\n",
       "      <td>Bad</td>\n",
       "      <td>good</td>\n",
       "      <td>No</td>\n",
       "    </tr>\n",
       "    <tr>\n",
       "      <th>4</th>\n",
       "      <td>No</td>\n",
       "      <td>Male</td>\n",
       "      <td>BCA</td>\n",
       "      <td>170.0</td>\n",
       "      <td>54.0</td>\n",
       "      <td>40.0</td>\n",
       "      <td>65.0</td>\n",
       "      <td>30.0</td>\n",
       "      <td>Video Games</td>\n",
       "      <td>30 - 60 minute</td>\n",
       "      <td>Morning</td>\n",
       "      <td>50000</td>\n",
       "      <td>Yes</td>\n",
       "      <td>25%</td>\n",
       "      <td>1.30 - 2 hour</td>\n",
       "      <td>30 - 60 minutes</td>\n",
       "      <td>Good</td>\n",
       "      <td>good</td>\n",
       "      <td>No</td>\n",
       "    </tr>\n",
       "  </tbody>\n",
       "</table>\n",
       "</div>"
      ],
      "text/plain": [
       "  Have you completed any certification courses, or are you currently enrolled in any?  \\\n",
       "0                                                 No                                    \n",
       "1                                                 No                                    \n",
       "2                                                Yes                                    \n",
       "3                                                Yes                                    \n",
       "4                                                 No                                    \n",
       "\n",
       "   Gender Department  Height(CM)  Weight(KG)  10th Mark  12th Mark  \\\n",
       "0    Male        BCA       100.0        58.0       79.0       65.0   \n",
       "1  Female        BCA        90.0        40.0       70.0       80.0   \n",
       "2    Male        BCA       159.0        78.0       69.5       61.0   \n",
       "3  Female        BCA       147.0        20.0       70.0       59.0   \n",
       "4    Male        BCA       170.0        54.0       40.0       65.0   \n",
       "\n",
       "   college mark        hobbies daily studing time prefer to study in  \\\n",
       "0          80.0    Video Games      0 - 30 minute            Morning   \n",
       "1          70.0         Cinema     30 - 60 minute            Morning   \n",
       "2          55.0         Cinema         1 - 2 Hour            Anytime   \n",
       "3          58.0  Reading books         1 - 2 Hour            Anytime   \n",
       "4          30.0    Video Games     30 - 60 minute            Morning   \n",
       "\n",
       "   salary expectation Do you like your degree?  \\\n",
       "0               40000                       No   \n",
       "1               15000                      Yes   \n",
       "2               13000                      Yes   \n",
       "3             1500000                       No   \n",
       "4               50000                      Yes   \n",
       "\n",
       "  possibility of choosing  their career based on their degree :   \\\n",
       "0                                                50%               \n",
       "1                                                75%               \n",
       "2                                                50%               \n",
       "3                                                50%               \n",
       "4                                                25%               \n",
       "\n",
       "  social medai & video games spending Time Travelling Time  Stress Level   \\\n",
       "0                            1.30 - 2 hour  30 - 60 minutes           Bad   \n",
       "1                            1 - 1.30 hour   0 - 30 minutes           Bad   \n",
       "2                         More than 2 hour  30 - 60 minutes         Awful   \n",
       "3                            1.30 - 2 hour   0 - 30 minutes           Bad   \n",
       "4                            1.30 - 2 hour  30 - 60 minutes          Good   \n",
       "\n",
       "  Financial Status Are you doing a part-time job right now?  \n",
       "0              Bad                                       No  \n",
       "1              Bad                                       No  \n",
       "2              Bad                                       No  \n",
       "3             good                                       No  \n",
       "4             good                                       No  "
      ]
     },
     "execution_count": 7,
     "metadata": {},
     "output_type": "execute_result"
    }
   ],
   "source": [
    "df = pd.read_csv('Student_Behaviour.csv')\n",
    "df.head()"
   ]
  },
  {
   "cell_type": "markdown",
   "id": "36b0bfe9",
   "metadata": {},
   "source": [
    "<h1></h1>"
   ]
  },
  {
   "cell_type": "markdown",
   "id": "6b2d8676",
   "metadata": {},
   "source": [
    "## 3. I will now perform data cleaning"
   ]
  },
  {
   "cell_type": "code",
   "execution_count": 10,
   "id": "95ccbbc2",
   "metadata": {},
   "outputs": [
    {
     "data": {
      "text/plain": [
       "(235, 19)"
      ]
     },
     "execution_count": 10,
     "metadata": {},
     "output_type": "execute_result"
    }
   ],
   "source": [
    "df.shape # used to get the count of (rows, columns)"
   ]
  },
  {
   "cell_type": "code",
   "execution_count": 12,
   "id": "a149c414",
   "metadata": {},
   "outputs": [
    {
     "name": "stdout",
     "output_type": "stream",
     "text": [
      "<class 'pandas.core.frame.DataFrame'>\n",
      "RangeIndex: 235 entries, 0 to 234\n",
      "Data columns (total 19 columns):\n",
      " #   Column                                                                               Non-Null Count  Dtype  \n",
      "---  ------                                                                               --------------  -----  \n",
      " 0   Have you completed any certification courses, or are you currently enrolled in any?  235 non-null    object \n",
      " 1   Gender                                                                               235 non-null    object \n",
      " 2   Department                                                                           235 non-null    object \n",
      " 3   Height(CM)                                                                           235 non-null    float64\n",
      " 4   Weight(KG)                                                                           235 non-null    float64\n",
      " 5   10th Mark                                                                            235 non-null    float64\n",
      " 6   12th Mark                                                                            235 non-null    float64\n",
      " 7   college mark                                                                         235 non-null    float64\n",
      " 8   hobbies                                                                              235 non-null    object \n",
      " 9   daily studing time                                                                   235 non-null    object \n",
      " 10  prefer to study in                                                                   235 non-null    object \n",
      " 11  salary expectation                                                                   235 non-null    int64  \n",
      " 12  Do you like your degree?                                                             235 non-null    object \n",
      " 13  possibility of choosing  their career based on their degree :                        235 non-null    object \n",
      " 14  social medai & video games spending Time                                             235 non-null    object \n",
      " 15  Travelling Time                                                                      235 non-null    object \n",
      " 16  Stress Level                                                                         235 non-null    object \n",
      " 17  Financial Status                                                                     235 non-null    object \n",
      " 18  Are you doing a part-time job right now?                                             235 non-null    object \n",
      "dtypes: float64(5), int64(1), object(13)\n",
      "memory usage: 35.0+ KB\n"
     ]
    }
   ],
   "source": [
    "df.info() # checking data types"
   ]
  },
  {
   "cell_type": "code",
   "execution_count": 11,
   "id": "1efdf911",
   "metadata": {},
   "outputs": [
    {
     "data": {
      "text/plain": [
       "Have you completed any certification courses, or are you currently enrolled in any?    0\n",
       "Gender                                                                                 0\n",
       "Department                                                                             0\n",
       "Height(CM)                                                                             0\n",
       "Weight(KG)                                                                             0\n",
       "10th Mark                                                                              0\n",
       "12th Mark                                                                              0\n",
       "college mark                                                                           0\n",
       "hobbies                                                                                0\n",
       "daily studing time                                                                     0\n",
       "prefer to study in                                                                     0\n",
       "salary expectation                                                                     0\n",
       "Do you like your degree?                                                               0\n",
       "possibility of choosing  their career based on their degree :                          0\n",
       "social medai & video games spending Time                                               0\n",
       "Travelling Time                                                                        0\n",
       "Stress Level                                                                           0\n",
       "Financial Status                                                                       0\n",
       "Are you doing a part-time job right now?                                               0\n",
       "dtype: int64"
      ]
     },
     "execution_count": 11,
     "metadata": {},
     "output_type": "execute_result"
    }
   ],
   "source": [
    "# I will check if any missing value in columns\n",
    "df.isna().sum()"
   ]
  },
  {
   "cell_type": "markdown",
   "id": "7835bb6a",
   "metadata": {},
   "source": [
    "#### So, I am satisfied that in our data there is no missing values"
   ]
  },
  {
   "cell_type": "code",
   "execution_count": 22,
   "id": "f2aef04b",
   "metadata": {},
   "outputs": [],
   "source": [
    "# I need to rename the columns as some are really long\n",
    "new_col_name = {'Have you completed any certification courses, or are you currently enrolled in any?': 'certificate_or_enrolled',\n",
    "               'Do you like your degree?': 'like degree',\n",
    "                'possibility of choosing  their career based on their degree : ': 'career based on degree', \n",
    "                'social medai & video games spending Time': 'SM & VG time', \n",
    "                'Are you doing a part-time job right now?': 'part-time job'}"
   ]
  },
  {
   "cell_type": "code",
   "execution_count": 23,
   "id": "8438ebb4",
   "metadata": {},
   "outputs": [],
   "source": [
    "df = df.rename(columns=new_col_name)"
   ]
  },
  {
   "cell_type": "code",
   "execution_count": 24,
   "id": "99fe5ecf",
   "metadata": {},
   "outputs": [
    {
     "data": {
      "text/plain": [
       "Index(['certificate_or_enrolled', 'Gender', 'Department', 'Height(CM)',\n",
       "       'Weight(KG)', '10th Mark', '12th Mark', 'college mark', 'hobbies',\n",
       "       'daily studing time', 'prefer to study in', 'salary expectation',\n",
       "       'like degree', 'career based on degree', 'SM & VG time',\n",
       "       'Travelling Time ', 'Stress Level ', 'Financial Status',\n",
       "       'part-time job'],\n",
       "      dtype='object')"
      ]
     },
     "execution_count": 24,
     "metadata": {},
     "output_type": "execute_result"
    }
   ],
   "source": [
    "df.columns"
   ]
  },
  {
   "cell_type": "code",
   "execution_count": 26,
   "id": "c0e47815",
   "metadata": {},
   "outputs": [
    {
     "data": {
      "text/html": [
       "<div>\n",
       "<style scoped>\n",
       "    .dataframe tbody tr th:only-of-type {\n",
       "        vertical-align: middle;\n",
       "    }\n",
       "\n",
       "    .dataframe tbody tr th {\n",
       "        vertical-align: top;\n",
       "    }\n",
       "\n",
       "    .dataframe thead th {\n",
       "        text-align: right;\n",
       "    }\n",
       "</style>\n",
       "<table border=\"1\" class=\"dataframe\">\n",
       "  <thead>\n",
       "    <tr style=\"text-align: right;\">\n",
       "      <th></th>\n",
       "      <th>certificate_or_enrolled</th>\n",
       "      <th>Gender</th>\n",
       "      <th>Department</th>\n",
       "      <th>Height(CM)</th>\n",
       "      <th>Weight(KG)</th>\n",
       "      <th>10th Mark</th>\n",
       "      <th>12th Mark</th>\n",
       "      <th>college mark</th>\n",
       "      <th>hobbies</th>\n",
       "      <th>daily studing time</th>\n",
       "      <th>prefer to study in</th>\n",
       "      <th>salary expectation</th>\n",
       "      <th>like degree</th>\n",
       "      <th>career based on degree</th>\n",
       "      <th>SM &amp; VG time</th>\n",
       "      <th>Travelling Time</th>\n",
       "      <th>Stress Level</th>\n",
       "      <th>Financial Status</th>\n",
       "      <th>part-time job</th>\n",
       "    </tr>\n",
       "  </thead>\n",
       "  <tbody>\n",
       "    <tr>\n",
       "      <th>0</th>\n",
       "      <td>No</td>\n",
       "      <td>Male</td>\n",
       "      <td>BCA</td>\n",
       "      <td>100.0</td>\n",
       "      <td>58.0</td>\n",
       "      <td>79.0</td>\n",
       "      <td>65.0</td>\n",
       "      <td>80.0</td>\n",
       "      <td>Video Games</td>\n",
       "      <td>0 - 30 minute</td>\n",
       "      <td>Morning</td>\n",
       "      <td>40000</td>\n",
       "      <td>No</td>\n",
       "      <td>50%</td>\n",
       "      <td>1.30 - 2 hour</td>\n",
       "      <td>30 - 60 minutes</td>\n",
       "      <td>Bad</td>\n",
       "      <td>Bad</td>\n",
       "      <td>No</td>\n",
       "    </tr>\n",
       "    <tr>\n",
       "      <th>1</th>\n",
       "      <td>No</td>\n",
       "      <td>Female</td>\n",
       "      <td>BCA</td>\n",
       "      <td>90.0</td>\n",
       "      <td>40.0</td>\n",
       "      <td>70.0</td>\n",
       "      <td>80.0</td>\n",
       "      <td>70.0</td>\n",
       "      <td>Cinema</td>\n",
       "      <td>30 - 60 minute</td>\n",
       "      <td>Morning</td>\n",
       "      <td>15000</td>\n",
       "      <td>Yes</td>\n",
       "      <td>75%</td>\n",
       "      <td>1 - 1.30 hour</td>\n",
       "      <td>0 - 30 minutes</td>\n",
       "      <td>Bad</td>\n",
       "      <td>Bad</td>\n",
       "      <td>No</td>\n",
       "    </tr>\n",
       "    <tr>\n",
       "      <th>2</th>\n",
       "      <td>Yes</td>\n",
       "      <td>Male</td>\n",
       "      <td>BCA</td>\n",
       "      <td>159.0</td>\n",
       "      <td>78.0</td>\n",
       "      <td>69.5</td>\n",
       "      <td>61.0</td>\n",
       "      <td>55.0</td>\n",
       "      <td>Cinema</td>\n",
       "      <td>1 - 2 Hour</td>\n",
       "      <td>Anytime</td>\n",
       "      <td>13000</td>\n",
       "      <td>Yes</td>\n",
       "      <td>50%</td>\n",
       "      <td>More than 2 hour</td>\n",
       "      <td>30 - 60 minutes</td>\n",
       "      <td>Awful</td>\n",
       "      <td>Bad</td>\n",
       "      <td>No</td>\n",
       "    </tr>\n",
       "    <tr>\n",
       "      <th>3</th>\n",
       "      <td>Yes</td>\n",
       "      <td>Female</td>\n",
       "      <td>BCA</td>\n",
       "      <td>147.0</td>\n",
       "      <td>20.0</td>\n",
       "      <td>70.0</td>\n",
       "      <td>59.0</td>\n",
       "      <td>58.0</td>\n",
       "      <td>Reading books</td>\n",
       "      <td>1 - 2 Hour</td>\n",
       "      <td>Anytime</td>\n",
       "      <td>1500000</td>\n",
       "      <td>No</td>\n",
       "      <td>50%</td>\n",
       "      <td>1.30 - 2 hour</td>\n",
       "      <td>0 - 30 minutes</td>\n",
       "      <td>Bad</td>\n",
       "      <td>good</td>\n",
       "      <td>No</td>\n",
       "    </tr>\n",
       "    <tr>\n",
       "      <th>4</th>\n",
       "      <td>No</td>\n",
       "      <td>Male</td>\n",
       "      <td>BCA</td>\n",
       "      <td>170.0</td>\n",
       "      <td>54.0</td>\n",
       "      <td>40.0</td>\n",
       "      <td>65.0</td>\n",
       "      <td>30.0</td>\n",
       "      <td>Video Games</td>\n",
       "      <td>30 - 60 minute</td>\n",
       "      <td>Morning</td>\n",
       "      <td>50000</td>\n",
       "      <td>Yes</td>\n",
       "      <td>25%</td>\n",
       "      <td>1.30 - 2 hour</td>\n",
       "      <td>30 - 60 minutes</td>\n",
       "      <td>Good</td>\n",
       "      <td>good</td>\n",
       "      <td>No</td>\n",
       "    </tr>\n",
       "  </tbody>\n",
       "</table>\n",
       "</div>"
      ],
      "text/plain": [
       "  certificate_or_enrolled  Gender Department  Height(CM)  Weight(KG)  \\\n",
       "0                      No    Male        BCA       100.0        58.0   \n",
       "1                      No  Female        BCA        90.0        40.0   \n",
       "2                     Yes    Male        BCA       159.0        78.0   \n",
       "3                     Yes  Female        BCA       147.0        20.0   \n",
       "4                      No    Male        BCA       170.0        54.0   \n",
       "\n",
       "   10th Mark  12th Mark  college mark        hobbies daily studing time  \\\n",
       "0       79.0       65.0          80.0    Video Games      0 - 30 minute   \n",
       "1       70.0       80.0          70.0         Cinema     30 - 60 minute   \n",
       "2       69.5       61.0          55.0         Cinema         1 - 2 Hour   \n",
       "3       70.0       59.0          58.0  Reading books         1 - 2 Hour   \n",
       "4       40.0       65.0          30.0    Video Games     30 - 60 minute   \n",
       "\n",
       "  prefer to study in  salary expectation like degree career based on degree  \\\n",
       "0            Morning               40000          No                    50%   \n",
       "1            Morning               15000         Yes                    75%   \n",
       "2            Anytime               13000         Yes                    50%   \n",
       "3            Anytime             1500000          No                    50%   \n",
       "4            Morning               50000         Yes                    25%   \n",
       "\n",
       "       SM & VG time Travelling Time  Stress Level  Financial Status  \\\n",
       "0     1.30 - 2 hour  30 - 60 minutes           Bad              Bad   \n",
       "1     1 - 1.30 hour   0 - 30 minutes           Bad              Bad   \n",
       "2  More than 2 hour  30 - 60 minutes         Awful              Bad   \n",
       "3     1.30 - 2 hour   0 - 30 minutes           Bad             good   \n",
       "4     1.30 - 2 hour  30 - 60 minutes          Good             good   \n",
       "\n",
       "  part-time job  \n",
       "0            No  \n",
       "1            No  \n",
       "2            No  \n",
       "3            No  \n",
       "4            No  "
      ]
     },
     "execution_count": 26,
     "metadata": {},
     "output_type": "execute_result"
    }
   ],
   "source": [
    "df.head()"
   ]
  },
  {
   "cell_type": "markdown",
   "id": "07c9b972",
   "metadata": {},
   "source": [
    "#### Column names are changed now"
   ]
  },
  {
   "cell_type": "markdown",
   "id": "9cfb4bda",
   "metadata": {},
   "source": [
    "## 4. Feature Engineering"
   ]
  },
  {
   "cell_type": "code",
   "execution_count": 28,
   "id": "816a6b14",
   "metadata": {},
   "outputs": [
    {
     "data": {
      "text/plain": [
       "array(['50%', '75%', '25%', '100%', '0%'], dtype=object)"
      ]
     },
     "execution_count": 28,
     "metadata": {},
     "output_type": "execute_result"
    }
   ],
   "source": [
    "df['career based on degree'].unique() # i need to know how many unique values in 'career based on degree' column"
   ]
  },
  {
   "cell_type": "markdown",
   "id": "f85676e7",
   "metadata": {},
   "source": [
    "#### Looking above unique values in 'career based on degree' column I am not going to change and will take it as categorical feature and also can create a ranking column "
   ]
  },
  {
   "cell_type": "code",
   "execution_count": 38,
   "id": "83913851",
   "metadata": {},
   "outputs": [
    {
     "data": {
      "text/plain": [
       "75%     114\n",
       "50%      61\n",
       "100%     44\n",
       "25%      14\n",
       "0%        2\n",
       "Name: career based on degree, dtype: int64"
      ]
     },
     "execution_count": 38,
     "metadata": {},
     "output_type": "execute_result"
    }
   ],
   "source": [
    "df['career based on degree'].value_counts() ## how its distributed in our data"
   ]
  },
  {
   "cell_type": "code",
   "execution_count": 39,
   "id": "0eaf8f3b",
   "metadata": {},
   "outputs": [],
   "source": [
    "df['rating(career based on degree)'] = df['career based on degree'].map({'0%':1, '25%':2,'50%':3,'75%':4,'100%':5})"
   ]
  },
  {
   "cell_type": "code",
   "execution_count": 40,
   "id": "7b287835",
   "metadata": {},
   "outputs": [
    {
     "data": {
      "text/html": [
       "<div>\n",
       "<style scoped>\n",
       "    .dataframe tbody tr th:only-of-type {\n",
       "        vertical-align: middle;\n",
       "    }\n",
       "\n",
       "    .dataframe tbody tr th {\n",
       "        vertical-align: top;\n",
       "    }\n",
       "\n",
       "    .dataframe thead th {\n",
       "        text-align: right;\n",
       "    }\n",
       "</style>\n",
       "<table border=\"1\" class=\"dataframe\">\n",
       "  <thead>\n",
       "    <tr style=\"text-align: right;\">\n",
       "      <th></th>\n",
       "      <th>certificate_or_enrolled</th>\n",
       "      <th>Gender</th>\n",
       "      <th>Department</th>\n",
       "      <th>Height(CM)</th>\n",
       "      <th>Weight(KG)</th>\n",
       "      <th>10th Mark</th>\n",
       "      <th>12th Mark</th>\n",
       "      <th>college mark</th>\n",
       "      <th>hobbies</th>\n",
       "      <th>daily studing time</th>\n",
       "      <th>prefer to study in</th>\n",
       "      <th>salary expectation</th>\n",
       "      <th>like degree</th>\n",
       "      <th>career based on degree</th>\n",
       "      <th>SM &amp; VG time</th>\n",
       "      <th>Travelling Time</th>\n",
       "      <th>Stress Level</th>\n",
       "      <th>Financial Status</th>\n",
       "      <th>part-time job</th>\n",
       "      <th>rating(career based on degree)</th>\n",
       "    </tr>\n",
       "  </thead>\n",
       "  <tbody>\n",
       "    <tr>\n",
       "      <th>0</th>\n",
       "      <td>No</td>\n",
       "      <td>Male</td>\n",
       "      <td>BCA</td>\n",
       "      <td>100.0</td>\n",
       "      <td>58.0</td>\n",
       "      <td>79.0</td>\n",
       "      <td>65.0</td>\n",
       "      <td>80.0</td>\n",
       "      <td>Video Games</td>\n",
       "      <td>0 - 30 minute</td>\n",
       "      <td>Morning</td>\n",
       "      <td>40000</td>\n",
       "      <td>No</td>\n",
       "      <td>50%</td>\n",
       "      <td>1.30 - 2 hour</td>\n",
       "      <td>30 - 60 minutes</td>\n",
       "      <td>Bad</td>\n",
       "      <td>Bad</td>\n",
       "      <td>No</td>\n",
       "      <td>3</td>\n",
       "    </tr>\n",
       "    <tr>\n",
       "      <th>1</th>\n",
       "      <td>No</td>\n",
       "      <td>Female</td>\n",
       "      <td>BCA</td>\n",
       "      <td>90.0</td>\n",
       "      <td>40.0</td>\n",
       "      <td>70.0</td>\n",
       "      <td>80.0</td>\n",
       "      <td>70.0</td>\n",
       "      <td>Cinema</td>\n",
       "      <td>30 - 60 minute</td>\n",
       "      <td>Morning</td>\n",
       "      <td>15000</td>\n",
       "      <td>Yes</td>\n",
       "      <td>75%</td>\n",
       "      <td>1 - 1.30 hour</td>\n",
       "      <td>0 - 30 minutes</td>\n",
       "      <td>Bad</td>\n",
       "      <td>Bad</td>\n",
       "      <td>No</td>\n",
       "      <td>4</td>\n",
       "    </tr>\n",
       "    <tr>\n",
       "      <th>2</th>\n",
       "      <td>Yes</td>\n",
       "      <td>Male</td>\n",
       "      <td>BCA</td>\n",
       "      <td>159.0</td>\n",
       "      <td>78.0</td>\n",
       "      <td>69.5</td>\n",
       "      <td>61.0</td>\n",
       "      <td>55.0</td>\n",
       "      <td>Cinema</td>\n",
       "      <td>1 - 2 Hour</td>\n",
       "      <td>Anytime</td>\n",
       "      <td>13000</td>\n",
       "      <td>Yes</td>\n",
       "      <td>50%</td>\n",
       "      <td>More than 2 hour</td>\n",
       "      <td>30 - 60 minutes</td>\n",
       "      <td>Awful</td>\n",
       "      <td>Bad</td>\n",
       "      <td>No</td>\n",
       "      <td>3</td>\n",
       "    </tr>\n",
       "    <tr>\n",
       "      <th>3</th>\n",
       "      <td>Yes</td>\n",
       "      <td>Female</td>\n",
       "      <td>BCA</td>\n",
       "      <td>147.0</td>\n",
       "      <td>20.0</td>\n",
       "      <td>70.0</td>\n",
       "      <td>59.0</td>\n",
       "      <td>58.0</td>\n",
       "      <td>Reading books</td>\n",
       "      <td>1 - 2 Hour</td>\n",
       "      <td>Anytime</td>\n",
       "      <td>1500000</td>\n",
       "      <td>No</td>\n",
       "      <td>50%</td>\n",
       "      <td>1.30 - 2 hour</td>\n",
       "      <td>0 - 30 minutes</td>\n",
       "      <td>Bad</td>\n",
       "      <td>good</td>\n",
       "      <td>No</td>\n",
       "      <td>3</td>\n",
       "    </tr>\n",
       "    <tr>\n",
       "      <th>4</th>\n",
       "      <td>No</td>\n",
       "      <td>Male</td>\n",
       "      <td>BCA</td>\n",
       "      <td>170.0</td>\n",
       "      <td>54.0</td>\n",
       "      <td>40.0</td>\n",
       "      <td>65.0</td>\n",
       "      <td>30.0</td>\n",
       "      <td>Video Games</td>\n",
       "      <td>30 - 60 minute</td>\n",
       "      <td>Morning</td>\n",
       "      <td>50000</td>\n",
       "      <td>Yes</td>\n",
       "      <td>25%</td>\n",
       "      <td>1.30 - 2 hour</td>\n",
       "      <td>30 - 60 minutes</td>\n",
       "      <td>Good</td>\n",
       "      <td>good</td>\n",
       "      <td>No</td>\n",
       "      <td>2</td>\n",
       "    </tr>\n",
       "    <tr>\n",
       "      <th>...</th>\n",
       "      <td>...</td>\n",
       "      <td>...</td>\n",
       "      <td>...</td>\n",
       "      <td>...</td>\n",
       "      <td>...</td>\n",
       "      <td>...</td>\n",
       "      <td>...</td>\n",
       "      <td>...</td>\n",
       "      <td>...</td>\n",
       "      <td>...</td>\n",
       "      <td>...</td>\n",
       "      <td>...</td>\n",
       "      <td>...</td>\n",
       "      <td>...</td>\n",
       "      <td>...</td>\n",
       "      <td>...</td>\n",
       "      <td>...</td>\n",
       "      <td>...</td>\n",
       "      <td>...</td>\n",
       "      <td>...</td>\n",
       "    </tr>\n",
       "    <tr>\n",
       "      <th>230</th>\n",
       "      <td>Yes</td>\n",
       "      <td>Male</td>\n",
       "      <td>B.com ISM</td>\n",
       "      <td>170.0</td>\n",
       "      <td>76.0</td>\n",
       "      <td>72.0</td>\n",
       "      <td>67.0</td>\n",
       "      <td>65.0</td>\n",
       "      <td>Video Games</td>\n",
       "      <td>30 - 60 minute</td>\n",
       "      <td>Morning</td>\n",
       "      <td>7000</td>\n",
       "      <td>Yes</td>\n",
       "      <td>50%</td>\n",
       "      <td>More than 2 hour</td>\n",
       "      <td>30 - 60 minutes</td>\n",
       "      <td>Bad</td>\n",
       "      <td>Bad</td>\n",
       "      <td>No</td>\n",
       "      <td>3</td>\n",
       "    </tr>\n",
       "    <tr>\n",
       "      <th>231</th>\n",
       "      <td>Yes</td>\n",
       "      <td>Male</td>\n",
       "      <td>B.com ISM</td>\n",
       "      <td>172.0</td>\n",
       "      <td>52.0</td>\n",
       "      <td>72.0</td>\n",
       "      <td>70.0</td>\n",
       "      <td>76.0</td>\n",
       "      <td>Cinema</td>\n",
       "      <td>2 - 3 hour</td>\n",
       "      <td>Anytime</td>\n",
       "      <td>25000</td>\n",
       "      <td>Yes</td>\n",
       "      <td>75%</td>\n",
       "      <td>30 - 60 Minute</td>\n",
       "      <td>30 - 60 minutes</td>\n",
       "      <td>Good</td>\n",
       "      <td>good</td>\n",
       "      <td>No</td>\n",
       "      <td>4</td>\n",
       "    </tr>\n",
       "    <tr>\n",
       "      <th>232</th>\n",
       "      <td>Yes</td>\n",
       "      <td>Female</td>\n",
       "      <td>BCA</td>\n",
       "      <td>139.0</td>\n",
       "      <td>33.0</td>\n",
       "      <td>90.0</td>\n",
       "      <td>75.0</td>\n",
       "      <td>70.0</td>\n",
       "      <td>Cinema</td>\n",
       "      <td>30 - 60 minute</td>\n",
       "      <td>Night</td>\n",
       "      <td>20000</td>\n",
       "      <td>Yes</td>\n",
       "      <td>50%</td>\n",
       "      <td>30 - 60 Minute</td>\n",
       "      <td>2.30 - 3 hour</td>\n",
       "      <td>Bad</td>\n",
       "      <td>good</td>\n",
       "      <td>No</td>\n",
       "      <td>3</td>\n",
       "    </tr>\n",
       "    <tr>\n",
       "      <th>233</th>\n",
       "      <td>Yes</td>\n",
       "      <td>Female</td>\n",
       "      <td>Commerce</td>\n",
       "      <td>153.0</td>\n",
       "      <td>58.0</td>\n",
       "      <td>85.0</td>\n",
       "      <td>74.0</td>\n",
       "      <td>75.0</td>\n",
       "      <td>Cinema</td>\n",
       "      <td>0 - 30 minute</td>\n",
       "      <td>Anytime</td>\n",
       "      <td>20000</td>\n",
       "      <td>Yes</td>\n",
       "      <td>75%</td>\n",
       "      <td>More than 2 hour</td>\n",
       "      <td>2.30 - 3 hour</td>\n",
       "      <td>Awful</td>\n",
       "      <td>good</td>\n",
       "      <td>No</td>\n",
       "      <td>4</td>\n",
       "    </tr>\n",
       "    <tr>\n",
       "      <th>234</th>\n",
       "      <td>No</td>\n",
       "      <td>Female</td>\n",
       "      <td>B.com ISM</td>\n",
       "      <td>155.0</td>\n",
       "      <td>39.0</td>\n",
       "      <td>45.0</td>\n",
       "      <td>45.0</td>\n",
       "      <td>50.0</td>\n",
       "      <td>Sports</td>\n",
       "      <td>3 - 4 hour</td>\n",
       "      <td>Night</td>\n",
       "      <td>10</td>\n",
       "      <td>No</td>\n",
       "      <td>75%</td>\n",
       "      <td>30 - 60 Minute</td>\n",
       "      <td>2.30 - 3 hour</td>\n",
       "      <td>fabulous</td>\n",
       "      <td>good</td>\n",
       "      <td>No</td>\n",
       "      <td>4</td>\n",
       "    </tr>\n",
       "  </tbody>\n",
       "</table>\n",
       "<p>235 rows × 20 columns</p>\n",
       "</div>"
      ],
      "text/plain": [
       "    certificate_or_enrolled  Gender Department  Height(CM)  Weight(KG)  \\\n",
       "0                        No    Male        BCA       100.0        58.0   \n",
       "1                        No  Female        BCA        90.0        40.0   \n",
       "2                       Yes    Male        BCA       159.0        78.0   \n",
       "3                       Yes  Female        BCA       147.0        20.0   \n",
       "4                        No    Male        BCA       170.0        54.0   \n",
       "..                      ...     ...        ...         ...         ...   \n",
       "230                     Yes    Male  B.com ISM       170.0        76.0   \n",
       "231                     Yes    Male  B.com ISM       172.0        52.0   \n",
       "232                     Yes  Female        BCA       139.0        33.0   \n",
       "233                     Yes  Female   Commerce       153.0        58.0   \n",
       "234                      No  Female  B.com ISM       155.0        39.0   \n",
       "\n",
       "     10th Mark  12th Mark  college mark        hobbies daily studing time  \\\n",
       "0         79.0       65.0          80.0    Video Games      0 - 30 minute   \n",
       "1         70.0       80.0          70.0         Cinema     30 - 60 minute   \n",
       "2         69.5       61.0          55.0         Cinema         1 - 2 Hour   \n",
       "3         70.0       59.0          58.0  Reading books         1 - 2 Hour   \n",
       "4         40.0       65.0          30.0    Video Games     30 - 60 minute   \n",
       "..         ...        ...           ...            ...                ...   \n",
       "230       72.0       67.0          65.0    Video Games     30 - 60 minute   \n",
       "231       72.0       70.0          76.0         Cinema         2 - 3 hour   \n",
       "232       90.0       75.0          70.0         Cinema     30 - 60 minute   \n",
       "233       85.0       74.0          75.0         Cinema      0 - 30 minute   \n",
       "234       45.0       45.0          50.0         Sports         3 - 4 hour   \n",
       "\n",
       "    prefer to study in  salary expectation like degree career based on degree  \\\n",
       "0              Morning               40000          No                    50%   \n",
       "1              Morning               15000         Yes                    75%   \n",
       "2              Anytime               13000         Yes                    50%   \n",
       "3              Anytime             1500000          No                    50%   \n",
       "4              Morning               50000         Yes                    25%   \n",
       "..                 ...                 ...         ...                    ...   \n",
       "230            Morning                7000         Yes                    50%   \n",
       "231            Anytime               25000         Yes                    75%   \n",
       "232              Night               20000         Yes                    50%   \n",
       "233            Anytime               20000         Yes                    75%   \n",
       "234              Night                  10          No                    75%   \n",
       "\n",
       "         SM & VG time Travelling Time  Stress Level  Financial Status  \\\n",
       "0       1.30 - 2 hour  30 - 60 minutes           Bad              Bad   \n",
       "1       1 - 1.30 hour   0 - 30 minutes           Bad              Bad   \n",
       "2    More than 2 hour  30 - 60 minutes         Awful              Bad   \n",
       "3       1.30 - 2 hour   0 - 30 minutes           Bad             good   \n",
       "4       1.30 - 2 hour  30 - 60 minutes          Good             good   \n",
       "..                ...              ...           ...              ...   \n",
       "230  More than 2 hour  30 - 60 minutes           Bad              Bad   \n",
       "231    30 - 60 Minute  30 - 60 minutes          Good             good   \n",
       "232    30 - 60 Minute    2.30 - 3 hour           Bad             good   \n",
       "233  More than 2 hour    2.30 - 3 hour         Awful             good   \n",
       "234    30 - 60 Minute    2.30 - 3 hour      fabulous             good   \n",
       "\n",
       "    part-time job  rating(career based on degree)  \n",
       "0              No                               3  \n",
       "1              No                               4  \n",
       "2              No                               3  \n",
       "3              No                               3  \n",
       "4              No                               2  \n",
       "..            ...                             ...  \n",
       "230            No                               3  \n",
       "231            No                               4  \n",
       "232            No                               3  \n",
       "233            No                               4  \n",
       "234            No                               4  \n",
       "\n",
       "[235 rows x 20 columns]"
      ]
     },
     "execution_count": 40,
     "metadata": {},
     "output_type": "execute_result"
    }
   ],
   "source": [
    "df"
   ]
  },
  {
   "cell_type": "code",
   "execution_count": 41,
   "id": "64bc24ef",
   "metadata": {},
   "outputs": [
    {
     "name": "stdout",
     "output_type": "stream",
     "text": [
      "<class 'pandas.core.frame.DataFrame'>\n",
      "RangeIndex: 235 entries, 0 to 234\n",
      "Data columns (total 20 columns):\n",
      " #   Column                          Non-Null Count  Dtype  \n",
      "---  ------                          --------------  -----  \n",
      " 0   certificate_or_enrolled         235 non-null    object \n",
      " 1   Gender                          235 non-null    object \n",
      " 2   Department                      235 non-null    object \n",
      " 3   Height(CM)                      235 non-null    float64\n",
      " 4   Weight(KG)                      235 non-null    float64\n",
      " 5   10th Mark                       235 non-null    float64\n",
      " 6   12th Mark                       235 non-null    float64\n",
      " 7   college mark                    235 non-null    float64\n",
      " 8   hobbies                         235 non-null    object \n",
      " 9   daily studing time              235 non-null    object \n",
      " 10  prefer to study in              235 non-null    object \n",
      " 11  salary expectation              235 non-null    int64  \n",
      " 12  like degree                     235 non-null    object \n",
      " 13  career based on degree          235 non-null    object \n",
      " 14  SM & VG time                    235 non-null    object \n",
      " 15  Travelling Time                 235 non-null    object \n",
      " 16  Stress Level                    235 non-null    object \n",
      " 17  Financial Status                235 non-null    object \n",
      " 18  part-time job                   235 non-null    object \n",
      " 19  rating(career based on degree)  235 non-null    int64  \n",
      "dtypes: float64(5), int64(2), object(13)\n",
      "memory usage: 36.8+ KB\n"
     ]
    }
   ],
   "source": [
    "df.info()"
   ]
  },
  {
   "cell_type": "code",
   "execution_count": 33,
   "id": "8950e98c",
   "metadata": {},
   "outputs": [
    {
     "data": {
      "text/plain": [
       "array(['Morning', 'Anytime', 'Night'], dtype=object)"
      ]
     },
     "execution_count": 33,
     "metadata": {},
     "output_type": "execute_result"
    }
   ],
   "source": [
    "df['prefer to study in'].unique()  ## need no change"
   ]
  },
  {
   "cell_type": "code",
   "execution_count": 35,
   "id": "d351f4b6",
   "metadata": {},
   "outputs": [
    {
     "data": {
      "text/plain": [
       "array(['Video Games', 'Cinema', 'Reading books', 'Sports'], dtype=object)"
      ]
     },
     "execution_count": 35,
     "metadata": {},
     "output_type": "execute_result"
    }
   ],
   "source": [
    "df['hobbies'].unique()"
   ]
  },
  {
   "cell_type": "code",
   "execution_count": 36,
   "id": "54685f0f",
   "metadata": {},
   "outputs": [
    {
     "data": {
      "text/plain": [
       "array(['0 - 30 minute', '30 - 60 minute', '1 - 2 Hour', '2 - 3 hour',\n",
       "       '3 - 4 hour', 'More Than 4 hour'], dtype=object)"
      ]
     },
     "execution_count": 36,
     "metadata": {},
     "output_type": "execute_result"
    }
   ],
   "source": [
    "df['daily studing time'].unique()"
   ]
  },
  {
   "cell_type": "markdown",
   "id": "5311f10a",
   "metadata": {},
   "source": [
    "### I will create rating for 'daily studing time' column"
   ]
  },
  {
   "cell_type": "code",
   "execution_count": 42,
   "id": "f7154e6b",
   "metadata": {},
   "outputs": [
    {
     "data": {
      "text/plain": [
       "30 - 60 minute      81\n",
       "1 - 2 Hour          61\n",
       "0 - 30 minute       46\n",
       "2 - 3 hour          24\n",
       "3 - 4 hour          15\n",
       "More Than 4 hour     8\n",
       "Name: daily studing time, dtype: int64"
      ]
     },
     "execution_count": 42,
     "metadata": {},
     "output_type": "execute_result"
    }
   ],
   "source": [
    "df['daily studing time'].value_counts() # distribution"
   ]
  },
  {
   "cell_type": "code",
   "execution_count": 43,
   "id": "3b37591d",
   "metadata": {},
   "outputs": [],
   "source": [
    "df['rating(daily studing time)'] = df['daily studing time'].map({'0 - 30 minute':1, '30 - 60 minute':2, '1 - 2 Hour':3, \n",
    "                                                                '2 - 3 hour': 4, '3 - 4 hour':5, 'More Than 4 hour': 6})"
   ]
  },
  {
   "cell_type": "code",
   "execution_count": 44,
   "id": "c140e3c2",
   "metadata": {},
   "outputs": [
    {
     "data": {
      "text/html": [
       "<div>\n",
       "<style scoped>\n",
       "    .dataframe tbody tr th:only-of-type {\n",
       "        vertical-align: middle;\n",
       "    }\n",
       "\n",
       "    .dataframe tbody tr th {\n",
       "        vertical-align: top;\n",
       "    }\n",
       "\n",
       "    .dataframe thead th {\n",
       "        text-align: right;\n",
       "    }\n",
       "</style>\n",
       "<table border=\"1\" class=\"dataframe\">\n",
       "  <thead>\n",
       "    <tr style=\"text-align: right;\">\n",
       "      <th></th>\n",
       "      <th>certificate_or_enrolled</th>\n",
       "      <th>Gender</th>\n",
       "      <th>Department</th>\n",
       "      <th>Height(CM)</th>\n",
       "      <th>Weight(KG)</th>\n",
       "      <th>10th Mark</th>\n",
       "      <th>12th Mark</th>\n",
       "      <th>college mark</th>\n",
       "      <th>hobbies</th>\n",
       "      <th>daily studing time</th>\n",
       "      <th>...</th>\n",
       "      <th>salary expectation</th>\n",
       "      <th>like degree</th>\n",
       "      <th>career based on degree</th>\n",
       "      <th>SM &amp; VG time</th>\n",
       "      <th>Travelling Time</th>\n",
       "      <th>Stress Level</th>\n",
       "      <th>Financial Status</th>\n",
       "      <th>part-time job</th>\n",
       "      <th>rating(career based on degree)</th>\n",
       "      <th>rating(daily studing time)</th>\n",
       "    </tr>\n",
       "  </thead>\n",
       "  <tbody>\n",
       "    <tr>\n",
       "      <th>0</th>\n",
       "      <td>No</td>\n",
       "      <td>Male</td>\n",
       "      <td>BCA</td>\n",
       "      <td>100.0</td>\n",
       "      <td>58.0</td>\n",
       "      <td>79.0</td>\n",
       "      <td>65.0</td>\n",
       "      <td>80.0</td>\n",
       "      <td>Video Games</td>\n",
       "      <td>0 - 30 minute</td>\n",
       "      <td>...</td>\n",
       "      <td>40000</td>\n",
       "      <td>No</td>\n",
       "      <td>50%</td>\n",
       "      <td>1.30 - 2 hour</td>\n",
       "      <td>30 - 60 minutes</td>\n",
       "      <td>Bad</td>\n",
       "      <td>Bad</td>\n",
       "      <td>No</td>\n",
       "      <td>3</td>\n",
       "      <td>1</td>\n",
       "    </tr>\n",
       "    <tr>\n",
       "      <th>1</th>\n",
       "      <td>No</td>\n",
       "      <td>Female</td>\n",
       "      <td>BCA</td>\n",
       "      <td>90.0</td>\n",
       "      <td>40.0</td>\n",
       "      <td>70.0</td>\n",
       "      <td>80.0</td>\n",
       "      <td>70.0</td>\n",
       "      <td>Cinema</td>\n",
       "      <td>30 - 60 minute</td>\n",
       "      <td>...</td>\n",
       "      <td>15000</td>\n",
       "      <td>Yes</td>\n",
       "      <td>75%</td>\n",
       "      <td>1 - 1.30 hour</td>\n",
       "      <td>0 - 30 minutes</td>\n",
       "      <td>Bad</td>\n",
       "      <td>Bad</td>\n",
       "      <td>No</td>\n",
       "      <td>4</td>\n",
       "      <td>2</td>\n",
       "    </tr>\n",
       "    <tr>\n",
       "      <th>2</th>\n",
       "      <td>Yes</td>\n",
       "      <td>Male</td>\n",
       "      <td>BCA</td>\n",
       "      <td>159.0</td>\n",
       "      <td>78.0</td>\n",
       "      <td>69.5</td>\n",
       "      <td>61.0</td>\n",
       "      <td>55.0</td>\n",
       "      <td>Cinema</td>\n",
       "      <td>1 - 2 Hour</td>\n",
       "      <td>...</td>\n",
       "      <td>13000</td>\n",
       "      <td>Yes</td>\n",
       "      <td>50%</td>\n",
       "      <td>More than 2 hour</td>\n",
       "      <td>30 - 60 minutes</td>\n",
       "      <td>Awful</td>\n",
       "      <td>Bad</td>\n",
       "      <td>No</td>\n",
       "      <td>3</td>\n",
       "      <td>3</td>\n",
       "    </tr>\n",
       "    <tr>\n",
       "      <th>3</th>\n",
       "      <td>Yes</td>\n",
       "      <td>Female</td>\n",
       "      <td>BCA</td>\n",
       "      <td>147.0</td>\n",
       "      <td>20.0</td>\n",
       "      <td>70.0</td>\n",
       "      <td>59.0</td>\n",
       "      <td>58.0</td>\n",
       "      <td>Reading books</td>\n",
       "      <td>1 - 2 Hour</td>\n",
       "      <td>...</td>\n",
       "      <td>1500000</td>\n",
       "      <td>No</td>\n",
       "      <td>50%</td>\n",
       "      <td>1.30 - 2 hour</td>\n",
       "      <td>0 - 30 minutes</td>\n",
       "      <td>Bad</td>\n",
       "      <td>good</td>\n",
       "      <td>No</td>\n",
       "      <td>3</td>\n",
       "      <td>3</td>\n",
       "    </tr>\n",
       "    <tr>\n",
       "      <th>4</th>\n",
       "      <td>No</td>\n",
       "      <td>Male</td>\n",
       "      <td>BCA</td>\n",
       "      <td>170.0</td>\n",
       "      <td>54.0</td>\n",
       "      <td>40.0</td>\n",
       "      <td>65.0</td>\n",
       "      <td>30.0</td>\n",
       "      <td>Video Games</td>\n",
       "      <td>30 - 60 minute</td>\n",
       "      <td>...</td>\n",
       "      <td>50000</td>\n",
       "      <td>Yes</td>\n",
       "      <td>25%</td>\n",
       "      <td>1.30 - 2 hour</td>\n",
       "      <td>30 - 60 minutes</td>\n",
       "      <td>Good</td>\n",
       "      <td>good</td>\n",
       "      <td>No</td>\n",
       "      <td>2</td>\n",
       "      <td>2</td>\n",
       "    </tr>\n",
       "  </tbody>\n",
       "</table>\n",
       "<p>5 rows × 21 columns</p>\n",
       "</div>"
      ],
      "text/plain": [
       "  certificate_or_enrolled  Gender Department  Height(CM)  Weight(KG)  \\\n",
       "0                      No    Male        BCA       100.0        58.0   \n",
       "1                      No  Female        BCA        90.0        40.0   \n",
       "2                     Yes    Male        BCA       159.0        78.0   \n",
       "3                     Yes  Female        BCA       147.0        20.0   \n",
       "4                      No    Male        BCA       170.0        54.0   \n",
       "\n",
       "   10th Mark  12th Mark  college mark        hobbies daily studing time  ...  \\\n",
       "0       79.0       65.0          80.0    Video Games      0 - 30 minute  ...   \n",
       "1       70.0       80.0          70.0         Cinema     30 - 60 minute  ...   \n",
       "2       69.5       61.0          55.0         Cinema         1 - 2 Hour  ...   \n",
       "3       70.0       59.0          58.0  Reading books         1 - 2 Hour  ...   \n",
       "4       40.0       65.0          30.0    Video Games     30 - 60 minute  ...   \n",
       "\n",
       "  salary expectation  like degree career based on degree      SM & VG time  \\\n",
       "0              40000           No                    50%     1.30 - 2 hour   \n",
       "1              15000          Yes                    75%     1 - 1.30 hour   \n",
       "2              13000          Yes                    50%  More than 2 hour   \n",
       "3            1500000           No                    50%     1.30 - 2 hour   \n",
       "4              50000          Yes                    25%     1.30 - 2 hour   \n",
       "\n",
       "  Travelling Time  Stress Level  Financial Status part-time job  \\\n",
       "0  30 - 60 minutes           Bad              Bad            No   \n",
       "1   0 - 30 minutes           Bad              Bad            No   \n",
       "2  30 - 60 minutes         Awful              Bad            No   \n",
       "3   0 - 30 minutes           Bad             good            No   \n",
       "4  30 - 60 minutes          Good             good            No   \n",
       "\n",
       "  rating(career based on degree)  rating(daily studing time)  \n",
       "0                              3                           1  \n",
       "1                              4                           2  \n",
       "2                              3                           3  \n",
       "3                              3                           3  \n",
       "4                              2                           2  \n",
       "\n",
       "[5 rows x 21 columns]"
      ]
     },
     "execution_count": 44,
     "metadata": {},
     "output_type": "execute_result"
    }
   ],
   "source": [
    "df.head()"
   ]
  },
  {
   "cell_type": "code",
   "execution_count": 37,
   "id": "f2fb3551",
   "metadata": {},
   "outputs": [
    {
     "data": {
      "text/plain": [
       "array(['No', 'Yes'], dtype=object)"
      ]
     },
     "execution_count": 37,
     "metadata": {},
     "output_type": "execute_result"
    }
   ],
   "source": [
    "df['part-time job'].unique()"
   ]
  },
  {
   "cell_type": "code",
   "execution_count": 45,
   "id": "5ca4d95f",
   "metadata": {},
   "outputs": [
    {
     "data": {
      "text/plain": [
       "array(['1.30 - 2 hour', '1 - 1.30 hour', 'More than 2 hour',\n",
       "       '30 - 60 Minute', '1 - 30 Minute', '0 Minute'], dtype=object)"
      ]
     },
     "execution_count": 45,
     "metadata": {},
     "output_type": "execute_result"
    }
   ],
   "source": [
    "df['SM & VG time'].unique()"
   ]
  },
  {
   "cell_type": "markdown",
   "id": "a56c7269",
   "metadata": {},
   "source": [
    "### I will create one column which capture the rating for 'SM & VG time' column"
   ]
  },
  {
   "cell_type": "code",
   "execution_count": 46,
   "id": "4c2c3e06",
   "metadata": {},
   "outputs": [
    {
     "data": {
      "text/plain": [
       "30 - 60 Minute      69\n",
       "1 - 1.30 hour       55\n",
       "1 - 30 Minute       47\n",
       "More than 2 hour    32\n",
       "1.30 - 2 hour       27\n",
       "0 Minute             5\n",
       "Name: SM & VG time, dtype: int64"
      ]
     },
     "execution_count": 46,
     "metadata": {},
     "output_type": "execute_result"
    }
   ],
   "source": [
    "df['SM & VG time'].value_counts()"
   ]
  },
  {
   "cell_type": "code",
   "execution_count": 47,
   "id": "29a6847d",
   "metadata": {},
   "outputs": [],
   "source": [
    "df['rating(SM & VG time)'] = df['SM & VG time'].map({'0 Minute':1,'1 - 30 Minute':2,'30 - 60 Minute':3,'1 - 1.30 hour':4,\n",
    "                                                    '1.30 - 2 hour':5,'More than 2 hour':6})"
   ]
  },
  {
   "cell_type": "code",
   "execution_count": 48,
   "id": "9391b5ae",
   "metadata": {},
   "outputs": [
    {
     "data": {
      "text/html": [
       "<div>\n",
       "<style scoped>\n",
       "    .dataframe tbody tr th:only-of-type {\n",
       "        vertical-align: middle;\n",
       "    }\n",
       "\n",
       "    .dataframe tbody tr th {\n",
       "        vertical-align: top;\n",
       "    }\n",
       "\n",
       "    .dataframe thead th {\n",
       "        text-align: right;\n",
       "    }\n",
       "</style>\n",
       "<table border=\"1\" class=\"dataframe\">\n",
       "  <thead>\n",
       "    <tr style=\"text-align: right;\">\n",
       "      <th></th>\n",
       "      <th>certificate_or_enrolled</th>\n",
       "      <th>Gender</th>\n",
       "      <th>Department</th>\n",
       "      <th>Height(CM)</th>\n",
       "      <th>Weight(KG)</th>\n",
       "      <th>10th Mark</th>\n",
       "      <th>12th Mark</th>\n",
       "      <th>college mark</th>\n",
       "      <th>hobbies</th>\n",
       "      <th>daily studing time</th>\n",
       "      <th>...</th>\n",
       "      <th>like degree</th>\n",
       "      <th>career based on degree</th>\n",
       "      <th>SM &amp; VG time</th>\n",
       "      <th>Travelling Time</th>\n",
       "      <th>Stress Level</th>\n",
       "      <th>Financial Status</th>\n",
       "      <th>part-time job</th>\n",
       "      <th>rating(career based on degree)</th>\n",
       "      <th>rating(daily studing time)</th>\n",
       "      <th>rating(SM &amp; VG time)</th>\n",
       "    </tr>\n",
       "  </thead>\n",
       "  <tbody>\n",
       "    <tr>\n",
       "      <th>0</th>\n",
       "      <td>No</td>\n",
       "      <td>Male</td>\n",
       "      <td>BCA</td>\n",
       "      <td>100.0</td>\n",
       "      <td>58.0</td>\n",
       "      <td>79.0</td>\n",
       "      <td>65.0</td>\n",
       "      <td>80.0</td>\n",
       "      <td>Video Games</td>\n",
       "      <td>0 - 30 minute</td>\n",
       "      <td>...</td>\n",
       "      <td>No</td>\n",
       "      <td>50%</td>\n",
       "      <td>1.30 - 2 hour</td>\n",
       "      <td>30 - 60 minutes</td>\n",
       "      <td>Bad</td>\n",
       "      <td>Bad</td>\n",
       "      <td>No</td>\n",
       "      <td>3</td>\n",
       "      <td>1</td>\n",
       "      <td>5</td>\n",
       "    </tr>\n",
       "    <tr>\n",
       "      <th>1</th>\n",
       "      <td>No</td>\n",
       "      <td>Female</td>\n",
       "      <td>BCA</td>\n",
       "      <td>90.0</td>\n",
       "      <td>40.0</td>\n",
       "      <td>70.0</td>\n",
       "      <td>80.0</td>\n",
       "      <td>70.0</td>\n",
       "      <td>Cinema</td>\n",
       "      <td>30 - 60 minute</td>\n",
       "      <td>...</td>\n",
       "      <td>Yes</td>\n",
       "      <td>75%</td>\n",
       "      <td>1 - 1.30 hour</td>\n",
       "      <td>0 - 30 minutes</td>\n",
       "      <td>Bad</td>\n",
       "      <td>Bad</td>\n",
       "      <td>No</td>\n",
       "      <td>4</td>\n",
       "      <td>2</td>\n",
       "      <td>4</td>\n",
       "    </tr>\n",
       "    <tr>\n",
       "      <th>2</th>\n",
       "      <td>Yes</td>\n",
       "      <td>Male</td>\n",
       "      <td>BCA</td>\n",
       "      <td>159.0</td>\n",
       "      <td>78.0</td>\n",
       "      <td>69.5</td>\n",
       "      <td>61.0</td>\n",
       "      <td>55.0</td>\n",
       "      <td>Cinema</td>\n",
       "      <td>1 - 2 Hour</td>\n",
       "      <td>...</td>\n",
       "      <td>Yes</td>\n",
       "      <td>50%</td>\n",
       "      <td>More than 2 hour</td>\n",
       "      <td>30 - 60 minutes</td>\n",
       "      <td>Awful</td>\n",
       "      <td>Bad</td>\n",
       "      <td>No</td>\n",
       "      <td>3</td>\n",
       "      <td>3</td>\n",
       "      <td>6</td>\n",
       "    </tr>\n",
       "    <tr>\n",
       "      <th>3</th>\n",
       "      <td>Yes</td>\n",
       "      <td>Female</td>\n",
       "      <td>BCA</td>\n",
       "      <td>147.0</td>\n",
       "      <td>20.0</td>\n",
       "      <td>70.0</td>\n",
       "      <td>59.0</td>\n",
       "      <td>58.0</td>\n",
       "      <td>Reading books</td>\n",
       "      <td>1 - 2 Hour</td>\n",
       "      <td>...</td>\n",
       "      <td>No</td>\n",
       "      <td>50%</td>\n",
       "      <td>1.30 - 2 hour</td>\n",
       "      <td>0 - 30 minutes</td>\n",
       "      <td>Bad</td>\n",
       "      <td>good</td>\n",
       "      <td>No</td>\n",
       "      <td>3</td>\n",
       "      <td>3</td>\n",
       "      <td>5</td>\n",
       "    </tr>\n",
       "    <tr>\n",
       "      <th>4</th>\n",
       "      <td>No</td>\n",
       "      <td>Male</td>\n",
       "      <td>BCA</td>\n",
       "      <td>170.0</td>\n",
       "      <td>54.0</td>\n",
       "      <td>40.0</td>\n",
       "      <td>65.0</td>\n",
       "      <td>30.0</td>\n",
       "      <td>Video Games</td>\n",
       "      <td>30 - 60 minute</td>\n",
       "      <td>...</td>\n",
       "      <td>Yes</td>\n",
       "      <td>25%</td>\n",
       "      <td>1.30 - 2 hour</td>\n",
       "      <td>30 - 60 minutes</td>\n",
       "      <td>Good</td>\n",
       "      <td>good</td>\n",
       "      <td>No</td>\n",
       "      <td>2</td>\n",
       "      <td>2</td>\n",
       "      <td>5</td>\n",
       "    </tr>\n",
       "  </tbody>\n",
       "</table>\n",
       "<p>5 rows × 22 columns</p>\n",
       "</div>"
      ],
      "text/plain": [
       "  certificate_or_enrolled  Gender Department  Height(CM)  Weight(KG)  \\\n",
       "0                      No    Male        BCA       100.0        58.0   \n",
       "1                      No  Female        BCA        90.0        40.0   \n",
       "2                     Yes    Male        BCA       159.0        78.0   \n",
       "3                     Yes  Female        BCA       147.0        20.0   \n",
       "4                      No    Male        BCA       170.0        54.0   \n",
       "\n",
       "   10th Mark  12th Mark  college mark        hobbies daily studing time  ...  \\\n",
       "0       79.0       65.0          80.0    Video Games      0 - 30 minute  ...   \n",
       "1       70.0       80.0          70.0         Cinema     30 - 60 minute  ...   \n",
       "2       69.5       61.0          55.0         Cinema         1 - 2 Hour  ...   \n",
       "3       70.0       59.0          58.0  Reading books         1 - 2 Hour  ...   \n",
       "4       40.0       65.0          30.0    Video Games     30 - 60 minute  ...   \n",
       "\n",
       "  like degree  career based on degree      SM & VG time Travelling Time   \\\n",
       "0          No                     50%     1.30 - 2 hour  30 - 60 minutes   \n",
       "1         Yes                     75%     1 - 1.30 hour   0 - 30 minutes   \n",
       "2         Yes                     50%  More than 2 hour  30 - 60 minutes   \n",
       "3          No                     50%     1.30 - 2 hour   0 - 30 minutes   \n",
       "4         Yes                     25%     1.30 - 2 hour  30 - 60 minutes   \n",
       "\n",
       "  Stress Level  Financial Status part-time job rating(career based on degree)  \\\n",
       "0           Bad              Bad            No                              3   \n",
       "1           Bad              Bad            No                              4   \n",
       "2         Awful              Bad            No                              3   \n",
       "3           Bad             good            No                              3   \n",
       "4          Good             good            No                              2   \n",
       "\n",
       "  rating(daily studing time)  rating(SM & VG time)  \n",
       "0                          1                     5  \n",
       "1                          2                     4  \n",
       "2                          3                     6  \n",
       "3                          3                     5  \n",
       "4                          2                     5  \n",
       "\n",
       "[5 rows x 22 columns]"
      ]
     },
     "execution_count": 48,
     "metadata": {},
     "output_type": "execute_result"
    }
   ],
   "source": [
    "df.head()"
   ]
  },
  {
   "cell_type": "code",
   "execution_count": 50,
   "id": "669215a5",
   "metadata": {},
   "outputs": [
    {
     "data": {
      "text/plain": [
       "array(['30 - 60 minutes', '0 - 30 minutes', '1 - 1.30 hour',\n",
       "       '2 - 2.30 hour', '1.30 - 2 hour', 'more than 3 hour',\n",
       "       '2.30 - 3 hour'], dtype=object)"
      ]
     },
     "execution_count": 50,
     "metadata": {},
     "output_type": "execute_result"
    }
   ],
   "source": [
    "df['Travelling Time '].unique()"
   ]
  },
  {
   "cell_type": "markdown",
   "id": "a86649cb",
   "metadata": {},
   "source": [
    "### I will create a column for rating the 'Travelling Time' column"
   ]
  },
  {
   "cell_type": "code",
   "execution_count": 52,
   "id": "2520c4e9",
   "metadata": {},
   "outputs": [
    {
     "data": {
      "text/plain": [
       "30 - 60 minutes     80\n",
       "0 - 30 minutes      55\n",
       "1 - 1.30 hour       51\n",
       "1.30 - 2 hour       18\n",
       "2 - 2.30 hour       14\n",
       "more than 3 hour    10\n",
       "2.30 - 3 hour        7\n",
       "Name: Travelling Time , dtype: int64"
      ]
     },
     "execution_count": 52,
     "metadata": {},
     "output_type": "execute_result"
    }
   ],
   "source": [
    "df['Travelling Time '].value_counts()"
   ]
  },
  {
   "cell_type": "code",
   "execution_count": 53,
   "id": "03021909",
   "metadata": {},
   "outputs": [],
   "source": [
    "df['rating(Travelling Time)'] = df['Travelling Time '].map({'0 - 30 minutes':1, '30 - 60 minutes':2,'1 - 1.30 hour':3,\n",
    "                                                           '1.30 - 2 hour':4,'1.30 - 2 hour':5,'2 - 2.30 hour':6,\n",
    "                                                            '2.30 - 3 hour':7,'more than 3 hour':8})"
   ]
  },
  {
   "cell_type": "code",
   "execution_count": 54,
   "id": "9f6af28c",
   "metadata": {},
   "outputs": [
    {
     "data": {
      "text/html": [
       "<div>\n",
       "<style scoped>\n",
       "    .dataframe tbody tr th:only-of-type {\n",
       "        vertical-align: middle;\n",
       "    }\n",
       "\n",
       "    .dataframe tbody tr th {\n",
       "        vertical-align: top;\n",
       "    }\n",
       "\n",
       "    .dataframe thead th {\n",
       "        text-align: right;\n",
       "    }\n",
       "</style>\n",
       "<table border=\"1\" class=\"dataframe\">\n",
       "  <thead>\n",
       "    <tr style=\"text-align: right;\">\n",
       "      <th></th>\n",
       "      <th>certificate_or_enrolled</th>\n",
       "      <th>Gender</th>\n",
       "      <th>Department</th>\n",
       "      <th>Height(CM)</th>\n",
       "      <th>Weight(KG)</th>\n",
       "      <th>10th Mark</th>\n",
       "      <th>12th Mark</th>\n",
       "      <th>college mark</th>\n",
       "      <th>hobbies</th>\n",
       "      <th>daily studing time</th>\n",
       "      <th>...</th>\n",
       "      <th>career based on degree</th>\n",
       "      <th>SM &amp; VG time</th>\n",
       "      <th>Travelling Time</th>\n",
       "      <th>Stress Level</th>\n",
       "      <th>Financial Status</th>\n",
       "      <th>part-time job</th>\n",
       "      <th>rating(career based on degree)</th>\n",
       "      <th>rating(daily studing time)</th>\n",
       "      <th>rating(SM &amp; VG time)</th>\n",
       "      <th>rating(Travelling Time)</th>\n",
       "    </tr>\n",
       "  </thead>\n",
       "  <tbody>\n",
       "    <tr>\n",
       "      <th>0</th>\n",
       "      <td>No</td>\n",
       "      <td>Male</td>\n",
       "      <td>BCA</td>\n",
       "      <td>100.0</td>\n",
       "      <td>58.0</td>\n",
       "      <td>79.0</td>\n",
       "      <td>65.0</td>\n",
       "      <td>80.0</td>\n",
       "      <td>Video Games</td>\n",
       "      <td>0 - 30 minute</td>\n",
       "      <td>...</td>\n",
       "      <td>50%</td>\n",
       "      <td>1.30 - 2 hour</td>\n",
       "      <td>30 - 60 minutes</td>\n",
       "      <td>Bad</td>\n",
       "      <td>Bad</td>\n",
       "      <td>No</td>\n",
       "      <td>3</td>\n",
       "      <td>1</td>\n",
       "      <td>5</td>\n",
       "      <td>2</td>\n",
       "    </tr>\n",
       "    <tr>\n",
       "      <th>1</th>\n",
       "      <td>No</td>\n",
       "      <td>Female</td>\n",
       "      <td>BCA</td>\n",
       "      <td>90.0</td>\n",
       "      <td>40.0</td>\n",
       "      <td>70.0</td>\n",
       "      <td>80.0</td>\n",
       "      <td>70.0</td>\n",
       "      <td>Cinema</td>\n",
       "      <td>30 - 60 minute</td>\n",
       "      <td>...</td>\n",
       "      <td>75%</td>\n",
       "      <td>1 - 1.30 hour</td>\n",
       "      <td>0 - 30 minutes</td>\n",
       "      <td>Bad</td>\n",
       "      <td>Bad</td>\n",
       "      <td>No</td>\n",
       "      <td>4</td>\n",
       "      <td>2</td>\n",
       "      <td>4</td>\n",
       "      <td>1</td>\n",
       "    </tr>\n",
       "    <tr>\n",
       "      <th>2</th>\n",
       "      <td>Yes</td>\n",
       "      <td>Male</td>\n",
       "      <td>BCA</td>\n",
       "      <td>159.0</td>\n",
       "      <td>78.0</td>\n",
       "      <td>69.5</td>\n",
       "      <td>61.0</td>\n",
       "      <td>55.0</td>\n",
       "      <td>Cinema</td>\n",
       "      <td>1 - 2 Hour</td>\n",
       "      <td>...</td>\n",
       "      <td>50%</td>\n",
       "      <td>More than 2 hour</td>\n",
       "      <td>30 - 60 minutes</td>\n",
       "      <td>Awful</td>\n",
       "      <td>Bad</td>\n",
       "      <td>No</td>\n",
       "      <td>3</td>\n",
       "      <td>3</td>\n",
       "      <td>6</td>\n",
       "      <td>2</td>\n",
       "    </tr>\n",
       "    <tr>\n",
       "      <th>3</th>\n",
       "      <td>Yes</td>\n",
       "      <td>Female</td>\n",
       "      <td>BCA</td>\n",
       "      <td>147.0</td>\n",
       "      <td>20.0</td>\n",
       "      <td>70.0</td>\n",
       "      <td>59.0</td>\n",
       "      <td>58.0</td>\n",
       "      <td>Reading books</td>\n",
       "      <td>1 - 2 Hour</td>\n",
       "      <td>...</td>\n",
       "      <td>50%</td>\n",
       "      <td>1.30 - 2 hour</td>\n",
       "      <td>0 - 30 minutes</td>\n",
       "      <td>Bad</td>\n",
       "      <td>good</td>\n",
       "      <td>No</td>\n",
       "      <td>3</td>\n",
       "      <td>3</td>\n",
       "      <td>5</td>\n",
       "      <td>1</td>\n",
       "    </tr>\n",
       "    <tr>\n",
       "      <th>4</th>\n",
       "      <td>No</td>\n",
       "      <td>Male</td>\n",
       "      <td>BCA</td>\n",
       "      <td>170.0</td>\n",
       "      <td>54.0</td>\n",
       "      <td>40.0</td>\n",
       "      <td>65.0</td>\n",
       "      <td>30.0</td>\n",
       "      <td>Video Games</td>\n",
       "      <td>30 - 60 minute</td>\n",
       "      <td>...</td>\n",
       "      <td>25%</td>\n",
       "      <td>1.30 - 2 hour</td>\n",
       "      <td>30 - 60 minutes</td>\n",
       "      <td>Good</td>\n",
       "      <td>good</td>\n",
       "      <td>No</td>\n",
       "      <td>2</td>\n",
       "      <td>2</td>\n",
       "      <td>5</td>\n",
       "      <td>2</td>\n",
       "    </tr>\n",
       "  </tbody>\n",
       "</table>\n",
       "<p>5 rows × 23 columns</p>\n",
       "</div>"
      ],
      "text/plain": [
       "  certificate_or_enrolled  Gender Department  Height(CM)  Weight(KG)  \\\n",
       "0                      No    Male        BCA       100.0        58.0   \n",
       "1                      No  Female        BCA        90.0        40.0   \n",
       "2                     Yes    Male        BCA       159.0        78.0   \n",
       "3                     Yes  Female        BCA       147.0        20.0   \n",
       "4                      No    Male        BCA       170.0        54.0   \n",
       "\n",
       "   10th Mark  12th Mark  college mark        hobbies daily studing time  ...  \\\n",
       "0       79.0       65.0          80.0    Video Games      0 - 30 minute  ...   \n",
       "1       70.0       80.0          70.0         Cinema     30 - 60 minute  ...   \n",
       "2       69.5       61.0          55.0         Cinema         1 - 2 Hour  ...   \n",
       "3       70.0       59.0          58.0  Reading books         1 - 2 Hour  ...   \n",
       "4       40.0       65.0          30.0    Video Games     30 - 60 minute  ...   \n",
       "\n",
       "  career based on degree      SM & VG time Travelling Time  Stress Level   \\\n",
       "0                    50%     1.30 - 2 hour  30 - 60 minutes           Bad   \n",
       "1                    75%     1 - 1.30 hour   0 - 30 minutes           Bad   \n",
       "2                    50%  More than 2 hour  30 - 60 minutes         Awful   \n",
       "3                    50%     1.30 - 2 hour   0 - 30 minutes           Bad   \n",
       "4                    25%     1.30 - 2 hour  30 - 60 minutes          Good   \n",
       "\n",
       "  Financial Status part-time job rating(career based on degree)  \\\n",
       "0              Bad            No                              3   \n",
       "1              Bad            No                              4   \n",
       "2              Bad            No                              3   \n",
       "3             good            No                              3   \n",
       "4             good            No                              2   \n",
       "\n",
       "  rating(daily studing time) rating(SM & VG time)  rating(Travelling Time)  \n",
       "0                          1                    5                        2  \n",
       "1                          2                    4                        1  \n",
       "2                          3                    6                        2  \n",
       "3                          3                    5                        1  \n",
       "4                          2                    5                        2  \n",
       "\n",
       "[5 rows x 23 columns]"
      ]
     },
     "execution_count": 54,
     "metadata": {},
     "output_type": "execute_result"
    }
   ],
   "source": [
    "df.head()"
   ]
  },
  {
   "cell_type": "code",
   "execution_count": 56,
   "id": "cc10e588",
   "metadata": {},
   "outputs": [
    {
     "data": {
      "text/plain": [
       "array(['BCA', 'Commerce', 'B.com Accounting and Finance ', 'B.com ISM'],\n",
       "      dtype=object)"
      ]
     },
     "execution_count": 56,
     "metadata": {},
     "output_type": "execute_result"
    }
   ],
   "source": [
    "df['Department'].unique()"
   ]
  },
  {
   "cell_type": "markdown",
   "id": "ee9e492d",
   "metadata": {},
   "source": [
    "<h1></h1>"
   ]
  },
  {
   "cell_type": "markdown",
   "id": "6f01ccac",
   "metadata": {},
   "source": [
    "## 5. Data Analysis"
   ]
  },
  {
   "cell_type": "markdown",
   "id": "36c5abb4",
   "metadata": {},
   "source": [
    "### 5.1 Stress level of student"
   ]
  },
  {
   "cell_type": "code",
   "execution_count": 59,
   "id": "f0aad0c9",
   "metadata": {},
   "outputs": [
    {
     "data": {
      "text/plain": [
       "Good        137\n",
       "Bad          68\n",
       "Awful        19\n",
       "fabulous     11\n",
       "Name: Stress Level , dtype: int64"
      ]
     },
     "execution_count": 59,
     "metadata": {},
     "output_type": "execute_result"
    }
   ],
   "source": [
    "df['Stress Level '].value_counts()"
   ]
  },
  {
   "cell_type": "code",
   "execution_count": 83,
   "id": "842ce2af",
   "metadata": {},
   "outputs": [],
   "source": [
    "stress_level = list(df['Stress Level '].value_counts().keys())\n",
    "count_stress_level = list(df['Stress Level '].value_counts().values)"
   ]
  },
  {
   "cell_type": "code",
   "execution_count": 84,
   "id": "b51d2259",
   "metadata": {},
   "outputs": [
    {
     "data": {
      "text/plain": [
       "([<matplotlib.patches.Wedge at 0x153af20bef0>,\n",
       "  <matplotlib.patches.Wedge at 0x153af2195c0>,\n",
       "  <matplotlib.patches.Wedge at 0x153af219c88>,\n",
       "  <matplotlib.patches.Wedge at 0x153af2233c8>],\n",
       " [Text(-0.3092913731024967, 1.159456271932828, 'Good'),\n",
       "  Text(-0.1538993217481537, -1.0891808843187887, 'Bad'),\n",
       "  Text(0.9388633634244233, -0.5731802376385453, 'Awful'),\n",
       "  Text(1.0881278664905614, -0.16117613398608163, 'fabulous')],\n",
       " [Text(-0.18041996764312307, 0.6763494919608164, '58%'),\n",
       "  Text(-0.083945084589902, -0.5940986641738847, '29%'),\n",
       "  Text(0.5121072891405946, -0.31264376598466104, '8%'),\n",
       "  Text(0.5935242908130334, -0.08791425490149905, '5%')])"
      ]
     },
     "execution_count": 84,
     "metadata": {},
     "output_type": "execute_result"
    },
    {
     "data": {
      "image/png": "[encoded data removed]",
      "text/plain": [
       "<Figure size 1440x720 with 1 Axes>"
      ]
     },
     "metadata": {},
     "output_type": "display_data"
    }
   ],
   "source": [
    "plt.figure(figsize=(20,10))\n",
    "explode = [0.1, 0, 0, 0]\n",
    "# define Seaborn color palette to use\n",
    "palette_color = sns.color_palette('dark')\n",
    "  \n",
    "# plotting data on chart\n",
    "plt.pie(count_stress_level, labels=stress_level, colors=palette_color,\n",
    "        explode=explode, autopct='%.0f%%')"
   ]
  },
  {
   "cell_type": "markdown",
   "id": "4cb0748c",
   "metadata": {},
   "source": [
    "#### From above pie plot we can say that In our data 37% of student are in stress"
   ]
  },
  {
   "cell_type": "markdown",
   "id": "27d987b6",
   "metadata": {},
   "source": [
    "### 5.2 Financial status of student"
   ]
  },
  {
   "cell_type": "code",
   "execution_count": 86,
   "id": "20c2aa53",
   "metadata": {},
   "outputs": [
    {
     "data": {
      "text/plain": [
       "good        129\n",
       "Bad          88\n",
       "Awful        14\n",
       "Fabulous      4\n",
       "Name: Financial Status, dtype: int64"
      ]
     },
     "execution_count": 86,
     "metadata": {},
     "output_type": "execute_result"
    }
   ],
   "source": [
    "df['Financial Status'].value_counts()"
   ]
  },
  {
   "cell_type": "code",
   "execution_count": 88,
   "id": "375cfb2f",
   "metadata": {},
   "outputs": [],
   "source": [
    "f_status = list(df['Financial Status'].value_counts().keys())\n",
    "f_status_count = list(df['Financial Status'].value_counts().values)"
   ]
  },
  {
   "cell_type": "code",
   "execution_count": 90,
   "id": "6599323d",
   "metadata": {},
   "outputs": [
    {
     "data": {
      "text/plain": [
       "([<matplotlib.patches.Wedge at 0x153af3fc860>,\n",
       "  <matplotlib.patches.Wedge at 0x153af3fcf98>,\n",
       "  <matplotlib.patches.Wedge at 0x153af40c6d8>,\n",
       "  <matplotlib.patches.Wedge at 0x153af40cdd8>],\n",
       " [Text(-0.1837592167467439, 1.1858467650841837, 'good'),\n",
       "  Text(-0.09546424902934905, -1.0958497055514786, 'Bad'),\n",
       "  Text(1.0527677193148337, -0.31887321801719853, 'Awful'),\n",
       "  Text(1.0984276801579935, -0.05879312428106705, 'Fabulous')],\n",
       " [Text(-0.1071928764356006, 0.6917439462991072, '55%'),\n",
       "  Text(-0.05207140856146311, -0.5977362030280792, '37%'),\n",
       "  Text(0.574236937808091, -0.17393084619119917, '6%'),\n",
       "  Text(0.5991423709952691, -0.03206897688058202, '2%')])"
      ]
     },
     "execution_count": 90,
     "metadata": {},
     "output_type": "execute_result"
    },
    {
     "data": {
      "image/png": "[encoded data removed]",
      "text/plain": [
       "<Figure size 1440x720 with 1 Axes>"
      ]
     },
     "metadata": {},
     "output_type": "display_data"
    }
   ],
   "source": [
    "plt.figure(figsize=(20,10))\n",
    "explode = [0.1, 0, 0, 0]\n",
    "# define Seaborn color palette to use\n",
    "palette_color = sns.color_palette('dark')\n",
    "  \n",
    "# plotting data on chart\n",
    "plt.pie(f_status_count, labels=f_status, colors=palette_color,\n",
    "        explode=explode, autopct='%.0f%%')"
   ]
  },
  {
   "cell_type": "markdown",
   "id": "4934e2ed",
   "metadata": {},
   "source": [
    "#### From above pie chart we can say that in our data 43% student don't have a good financial status"
   ]
  },
  {
   "cell_type": "markdown",
   "id": "d646bafe",
   "metadata": {},
   "source": [
    "### 5.3 Financial - Stress - College Marks"
   ]
  },
  {
   "cell_type": "code",
   "execution_count": 107,
   "id": "612d807a",
   "metadata": {},
   "outputs": [
    {
     "name": "stderr",
     "output_type": "stream",
     "text": [
      "g:\\p\\lib\\site-packages\\seaborn\\categorical.py:1296: UserWarning: 15.9% of the points cannot be placed; you may want to decrease the size of the markers or use stripplot.\n",
      "  warnings.warn(msg, UserWarning)\n",
      "g:\\p\\lib\\site-packages\\seaborn\\categorical.py:1296: UserWarning: 14.7% of the points cannot be placed; you may want to decrease the size of the markers or use stripplot.\n",
      "  warnings.warn(msg, UserWarning)\n"
     ]
    },
    {
     "data": {
      "text/plain": [
       "<seaborn.axisgrid.FacetGrid at 0x153b0d237f0>"
      ]
     },
     "execution_count": 107,
     "metadata": {},
     "output_type": "execute_result"
    },
    {
     "data": {
      "image/png": "[encoded data removed]",
      "text/plain": [
       "<Figure size 438.875x360 with 1 Axes>"
      ]
     },
     "metadata": {
      "needs_background": "light"
     },
     "output_type": "display_data"
    }
   ],
   "source": [
    "sns.catplot(x=\"Financial Status\", y=\"college mark\", hue=\"Stress Level \", kind=\"swarm\", data=df)"
   ]
  },
  {
   "cell_type": "markdown",
   "id": "0f910c06",
   "metadata": {},
   "source": [
    "from above plot I can say:\n",
    "   * the student who has fabulous financial status at least do not have awful stress\n",
    "   * The student who do not perform well in college also is financially awful is in a awful stress\n",
    "   * The student who is financially good and do bad in college do not have any stress"
   ]
  },
  {
   "cell_type": "markdown",
   "id": "14326f11",
   "metadata": {},
   "source": [
    "### 5.4 Percentage of Male and Female in stress"
   ]
  },
  {
   "cell_type": "code",
   "execution_count": 103,
   "id": "d7cf54d1",
   "metadata": {},
   "outputs": [
    {
     "data": {
      "text/plain": [
       "Male      156\n",
       "Female     79\n",
       "Name: Gender, dtype: int64"
      ]
     },
     "execution_count": 103,
     "metadata": {},
     "output_type": "execute_result"
    }
   ],
   "source": [
    "df['Gender'].value_counts()"
   ]
  },
  {
   "cell_type": "code",
   "execution_count": 123,
   "id": "0fdc5f73",
   "metadata": {},
   "outputs": [
    {
     "data": {
      "text/plain": [
       "42"
      ]
     },
     "execution_count": 123,
     "metadata": {},
     "output_type": "execute_result"
    }
   ],
   "source": [
    "df[(df['Gender'] == 'Female') & (df['Stress Level '] == 'Bad') | (df['Stress Level '] == 'Awful')].shape[0]"
   ]
  },
  {
   "cell_type": "code",
   "execution_count": 124,
   "id": "af7ad2a1",
   "metadata": {},
   "outputs": [
    {
     "data": {
      "text/plain": [
       "64"
      ]
     },
     "execution_count": 124,
     "metadata": {},
     "output_type": "execute_result"
    }
   ],
   "source": [
    "df[(df['Gender'] == 'Male') & (df['Stress Level '] == 'Bad') | (df['Stress Level '] == 'Awful')].shape[0]"
   ]
  },
  {
   "cell_type": "code",
   "execution_count": 126,
   "id": "c42d31d0",
   "metadata": {},
   "outputs": [
    {
     "name": "stdout",
     "output_type": "stream",
     "text": [
      "% of Female student in stress:  53.16455696202531\n",
      "% of Male student in stress:  41.02564102564102\n"
     ]
    }
   ],
   "source": [
    "print('% of Female student in stress: ', (42/79)*100)\n",
    "print('% of Male student in stress: ', (64/156)*100)"
   ]
  },
  {
   "cell_type": "markdown",
   "id": "8100186f",
   "metadata": {},
   "source": [
    "#### From above calculation I can say according to our data Female are more likely to stress then Male"
   ]
  },
  {
   "cell_type": "markdown",
   "id": "09432877",
   "metadata": {},
   "source": [
    "### 5.5 daily study relation with college marks"
   ]
  },
  {
   "cell_type": "code",
   "execution_count": 131,
   "id": "0f5e770e",
   "metadata": {},
   "outputs": [
    {
     "data": {
      "text/plain": [
       "<AxesSubplot:xlabel='rating(daily studing time)', ylabel='college mark'>"
      ]
     },
     "execution_count": 131,
     "metadata": {},
     "output_type": "execute_result"
    },
    {
     "data": {
      "image/png": "[encoded data removed]",
      "text/plain": [
       "<Figure size 432x288 with 1 Axes>"
      ]
     },
     "metadata": {
      "needs_background": "light"
     },
     "output_type": "display_data"
    }
   ],
   "source": [
    "sns.stripplot(x=\"rating(daily studing time)\", y=\"college mark\", hue=\"Stress Level \", data=df)"
   ]
  },
  {
   "cell_type": "markdown",
   "id": "0500b829",
   "metadata": {},
   "source": [
    "#### from above plot i can see the students who studied more then 4 hrs daily are not in the top marks getting spot but else there is not much relation"
   ]
  },
  {
   "cell_type": "markdown",
   "id": "c85cfb52",
   "metadata": {},
   "source": [
    "### 5.6 Correlation in data"
   ]
  },
  {
   "cell_type": "code",
   "execution_count": 134,
   "id": "81ccb439",
   "metadata": {},
   "outputs": [
    {
     "data": {
      "text/html": [
       "<style type=\"text/css\">\n",
       "#T_330eb_row0_col0, #T_330eb_row1_col1, #T_330eb_row2_col2, #T_330eb_row3_col3, #T_330eb_row4_col4, #T_330eb_row5_col5, #T_330eb_row6_col6, #T_330eb_row7_col7, #T_330eb_row8_col8, #T_330eb_row9_col9 {\n",
       "  background-color: #b40426;\n",
       "  color: #f1f1f1;\n",
       "}\n",
       "#T_330eb_row0_col1 {\n",
       "  background-color: #aac7fd;\n",
       "  color: #000000;\n",
       "}\n",
       "#T_330eb_row0_col2 {\n",
       "  background-color: #506bda;\n",
       "  color: #f1f1f1;\n",
       "}\n",
       "#T_330eb_row0_col3, #T_330eb_row0_col8, #T_330eb_row1_col7, #T_330eb_row3_col0, #T_330eb_row4_col5, #T_330eb_row5_col1, #T_330eb_row5_col2, #T_330eb_row5_col4, #T_330eb_row5_col9, #T_330eb_row8_col6 {\n",
       "  background-color: #3b4cc0;\n",
       "  color: #f1f1f1;\n",
       "}\n",
       "#T_330eb_row0_col4, #T_330eb_row5_col8, #T_330eb_row7_col8, #T_330eb_row8_col7 {\n",
       "  background-color: #516ddb;\n",
       "  color: #f1f1f1;\n",
       "}\n",
       "#T_330eb_row0_col5, #T_330eb_row9_col2 {\n",
       "  background-color: #5470de;\n",
       "  color: #f1f1f1;\n",
       "}\n",
       "#T_330eb_row0_col6 {\n",
       "  background-color: #4257c9;\n",
       "  color: #f1f1f1;\n",
       "}\n",
       "#T_330eb_row0_col7, #T_330eb_row3_col8, #T_330eb_row5_col7 {\n",
       "  background-color: #6788ee;\n",
       "  color: #f1f1f1;\n",
       "}\n",
       "#T_330eb_row0_col9, #T_330eb_row7_col3 {\n",
       "  background-color: #7b9ff9;\n",
       "  color: #f1f1f1;\n",
       "}\n",
       "#T_330eb_row1_col0 {\n",
       "  background-color: #b1cbfc;\n",
       "  color: #000000;\n",
       "}\n",
       "#T_330eb_row1_col2, #T_330eb_row7_col2, #T_330eb_row8_col2, #T_330eb_row8_col4 {\n",
       "  background-color: #5d7ce6;\n",
       "  color: #f1f1f1;\n",
       "}\n",
       "#T_330eb_row1_col3, #T_330eb_row4_col0, #T_330eb_row8_col5, #T_330eb_row9_col3 {\n",
       "  background-color: #5673e0;\n",
       "  color: #f1f1f1;\n",
       "}\n",
       "#T_330eb_row1_col4 {\n",
       "  background-color: #536edd;\n",
       "  color: #f1f1f1;\n",
       "}\n",
       "#T_330eb_row1_col5 {\n",
       "  background-color: #3e51c5;\n",
       "  color: #f1f1f1;\n",
       "}\n",
       "#T_330eb_row1_col6 {\n",
       "  background-color: #5572df;\n",
       "  color: #f1f1f1;\n",
       "}\n",
       "#T_330eb_row1_col8, #T_330eb_row7_col4 {\n",
       "  background-color: #7597f6;\n",
       "  color: #f1f1f1;\n",
       "}\n",
       "#T_330eb_row1_col9, #T_330eb_row2_col0 {\n",
       "  background-color: #6282ea;\n",
       "  color: #f1f1f1;\n",
       "}\n",
       "#T_330eb_row2_col1, #T_330eb_row7_col9, #T_330eb_row9_col7 {\n",
       "  background-color: #6687ed;\n",
       "  color: #f1f1f1;\n",
       "}\n",
       "#T_330eb_row2_col3 {\n",
       "  background-color: #e4d9d2;\n",
       "  color: #000000;\n",
       "}\n",
       "#T_330eb_row2_col4 {\n",
       "  background-color: #e1dad6;\n",
       "  color: #000000;\n",
       "}\n",
       "#T_330eb_row2_col5, #T_330eb_row4_col9 {\n",
       "  background-color: #465ecf;\n",
       "  color: #f1f1f1;\n",
       "}\n",
       "#T_330eb_row2_col6 {\n",
       "  background-color: #6b8df0;\n",
       "  color: #f1f1f1;\n",
       "}\n",
       "#T_330eb_row2_col7, #T_330eb_row6_col2 {\n",
       "  background-color: #6485ec;\n",
       "  color: #f1f1f1;\n",
       "}\n",
       "#T_330eb_row2_col8, #T_330eb_row9_col1 {\n",
       "  background-color: #6384eb;\n",
       "  color: #f1f1f1;\n",
       "}\n",
       "#T_330eb_row2_col9, #T_330eb_row6_col9, #T_330eb_row9_col6 {\n",
       "  background-color: #5b7ae5;\n",
       "  color: #f1f1f1;\n",
       "}\n",
       "#T_330eb_row3_col1, #T_330eb_row8_col9, #T_330eb_row9_col8 {\n",
       "  background-color: #4e68d8;\n",
       "  color: #f1f1f1;\n",
       "}\n",
       "#T_330eb_row3_col2 {\n",
       "  background-color: #dddcdc;\n",
       "  color: #000000;\n",
       "}\n",
       "#T_330eb_row3_col4 {\n",
       "  background-color: #d7dce3;\n",
       "  color: #000000;\n",
       "}\n",
       "#T_330eb_row3_col5, #T_330eb_row9_col5 {\n",
       "  background-color: #3f53c6;\n",
       "  color: #f1f1f1;\n",
       "}\n",
       "#T_330eb_row3_col6, #T_330eb_row7_col5 {\n",
       "  background-color: #6c8ff1;\n",
       "  color: #f1f1f1;\n",
       "}\n",
       "#T_330eb_row3_col7, #T_330eb_row7_col0, #T_330eb_row8_col3 {\n",
       "  background-color: #7295f4;\n",
       "  color: #f1f1f1;\n",
       "}\n",
       "#T_330eb_row3_col9, #T_330eb_row6_col0, #T_330eb_row9_col4 {\n",
       "  background-color: #4c66d6;\n",
       "  color: #f1f1f1;\n",
       "}\n",
       "#T_330eb_row4_col1, #T_330eb_row6_col5 {\n",
       "  background-color: #4f69d9;\n",
       "  color: #f1f1f1;\n",
       "}\n",
       "#T_330eb_row4_col2 {\n",
       "  background-color: #dbdcde;\n",
       "  color: #000000;\n",
       "}\n",
       "#T_330eb_row4_col3 {\n",
       "  background-color: #d9dce1;\n",
       "  color: #000000;\n",
       "}\n",
       "#T_330eb_row4_col6 {\n",
       "  background-color: #90b2fe;\n",
       "  color: #000000;\n",
       "}\n",
       "#T_330eb_row4_col7 {\n",
       "  background-color: #6e90f2;\n",
       "  color: #f1f1f1;\n",
       "}\n",
       "#T_330eb_row4_col8, #T_330eb_row6_col1 {\n",
       "  background-color: #5875e1;\n",
       "  color: #f1f1f1;\n",
       "}\n",
       "#T_330eb_row5_col0 {\n",
       "  background-color: #5977e3;\n",
       "  color: #f1f1f1;\n",
       "}\n",
       "#T_330eb_row5_col3, #T_330eb_row8_col0 {\n",
       "  background-color: #445acc;\n",
       "  color: #f1f1f1;\n",
       "}\n",
       "#T_330eb_row5_col6 {\n",
       "  background-color: #485fd1;\n",
       "  color: #f1f1f1;\n",
       "}\n",
       "#T_330eb_row6_col3 {\n",
       "  background-color: #779af7;\n",
       "  color: #f1f1f1;\n",
       "}\n",
       "#T_330eb_row6_col4 {\n",
       "  background-color: #97b8ff;\n",
       "  color: #000000;\n",
       "}\n",
       "#T_330eb_row6_col7 {\n",
       "  background-color: #9fbfff;\n",
       "  color: #000000;\n",
       "}\n",
       "#T_330eb_row6_col8, #T_330eb_row7_col1 {\n",
       "  background-color: #3c4ec2;\n",
       "  color: #f1f1f1;\n",
       "}\n",
       "#T_330eb_row7_col6 {\n",
       "  background-color: #9ebeff;\n",
       "  color: #000000;\n",
       "}\n",
       "#T_330eb_row8_col1 {\n",
       "  background-color: #7699f6;\n",
       "  color: #f1f1f1;\n",
       "}\n",
       "#T_330eb_row9_col0 {\n",
       "  background-color: #85a8fc;\n",
       "  color: #f1f1f1;\n",
       "}\n",
       "</style>\n",
       "<table id=\"T_330eb_\">\n",
       "  <thead>\n",
       "    <tr>\n",
       "      <th class=\"blank level0\" >&nbsp;</th>\n",
       "      <th class=\"col_heading level0 col0\" >Height(CM)</th>\n",
       "      <th class=\"col_heading level0 col1\" >Weight(KG)</th>\n",
       "      <th class=\"col_heading level0 col2\" >10th Mark</th>\n",
       "      <th class=\"col_heading level0 col3\" >12th Mark</th>\n",
       "      <th class=\"col_heading level0 col4\" >college mark</th>\n",
       "      <th class=\"col_heading level0 col5\" >salary expectation</th>\n",
       "      <th class=\"col_heading level0 col6\" >rating(career based on degree)</th>\n",
       "      <th class=\"col_heading level0 col7\" >rating(daily studing time)</th>\n",
       "      <th class=\"col_heading level0 col8\" >rating(SM & VG time)</th>\n",
       "      <th class=\"col_heading level0 col9\" >rating(Travelling Time)</th>\n",
       "    </tr>\n",
       "  </thead>\n",
       "  <tbody>\n",
       "    <tr>\n",
       "      <th id=\"T_330eb_level0_row0\" class=\"row_heading level0 row0\" >Height(CM)</th>\n",
       "      <td id=\"T_330eb_row0_col0\" class=\"data row0 col0\" >1.000000</td>\n",
       "      <td id=\"T_330eb_row0_col1\" class=\"data row0 col1\" >0.275948</td>\n",
       "      <td id=\"T_330eb_row0_col2\" class=\"data row0 col2\" >0.019896</td>\n",
       "      <td id=\"T_330eb_row0_col3\" class=\"data row0 col3\" >-0.120672</td>\n",
       "      <td id=\"T_330eb_row0_col4\" class=\"data row0 col4\" >-0.018535</td>\n",
       "      <td id=\"T_330eb_row0_col5\" class=\"data row0 col5\" >-0.010708</td>\n",
       "      <td id=\"T_330eb_row0_col6\" class=\"data row0 col6\" >-0.050653</td>\n",
       "      <td id=\"T_330eb_row0_col7\" class=\"data row0 col7\" >0.074065</td>\n",
       "      <td id=\"T_330eb_row0_col8\" class=\"data row0 col8\" >-0.083165</td>\n",
       "      <td id=\"T_330eb_row0_col9\" class=\"data row0 col9\" >0.136579</td>\n",
       "    </tr>\n",
       "    <tr>\n",
       "      <th id=\"T_330eb_level0_row1\" class=\"row_heading level0 row1\" >Weight(KG)</th>\n",
       "      <td id=\"T_330eb_row1_col0\" class=\"data row1 col0\" >0.275948</td>\n",
       "      <td id=\"T_330eb_row1_col1\" class=\"data row1 col1\" >1.000000</td>\n",
       "      <td id=\"T_330eb_row1_col2\" class=\"data row1 col2\" >0.062394</td>\n",
       "      <td id=\"T_330eb_row1_col3\" class=\"data row1 col3\" >-0.019208</td>\n",
       "      <td id=\"T_330eb_row1_col4\" class=\"data row1 col4\" >-0.014901</td>\n",
       "      <td id=\"T_330eb_row1_col5\" class=\"data row1 col5\" >-0.087787</td>\n",
       "      <td id=\"T_330eb_row1_col6\" class=\"data row1 col6\" >0.015577</td>\n",
       "      <td id=\"T_330eb_row1_col7\" class=\"data row1 col7\" >-0.081789</td>\n",
       "      <td id=\"T_330eb_row1_col8\" class=\"data row1 col8\" >0.113478</td>\n",
       "      <td id=\"T_330eb_row1_col9\" class=\"data row1 col9\" >0.056285</td>\n",
       "    </tr>\n",
       "    <tr>\n",
       "      <th id=\"T_330eb_level0_row2\" class=\"row_heading level0 row2\" >10th Mark</th>\n",
       "      <td id=\"T_330eb_row2_col0\" class=\"data row2 col0\" >0.019896</td>\n",
       "      <td id=\"T_330eb_row2_col1\" class=\"data row2 col1\" >0.062394</td>\n",
       "      <td id=\"T_330eb_row2_col2\" class=\"data row2 col2\" >1.000000</td>\n",
       "      <td id=\"T_330eb_row2_col3\" class=\"data row2 col3\" >0.473618</td>\n",
       "      <td id=\"T_330eb_row2_col4\" class=\"data row2 col4\" >0.466234</td>\n",
       "      <td id=\"T_330eb_row2_col5\" class=\"data row2 col5\" >-0.055694</td>\n",
       "      <td id=\"T_330eb_row2_col6\" class=\"data row2 col6\" >0.087066</td>\n",
       "      <td id=\"T_330eb_row2_col7\" class=\"data row2 col7\" >0.062460</td>\n",
       "      <td id=\"T_330eb_row2_col8\" class=\"data row2 col8\" >0.060142</td>\n",
       "      <td id=\"T_330eb_row2_col9\" class=\"data row2 col9\" >0.034265</td>\n",
       "    </tr>\n",
       "    <tr>\n",
       "      <th id=\"T_330eb_level0_row3\" class=\"row_heading level0 row3\" >12th Mark</th>\n",
       "      <td id=\"T_330eb_row3_col0\" class=\"data row3 col0\" >-0.120672</td>\n",
       "      <td id=\"T_330eb_row3_col1\" class=\"data row3 col1\" >-0.019208</td>\n",
       "      <td id=\"T_330eb_row3_col2\" class=\"data row3 col2\" >0.473618</td>\n",
       "      <td id=\"T_330eb_row3_col3\" class=\"data row3 col3\" >1.000000</td>\n",
       "      <td id=\"T_330eb_row3_col4\" class=\"data row3 col4\" >0.425123</td>\n",
       "      <td id=\"T_330eb_row3_col5\" class=\"data row3 col5\" >-0.085610</td>\n",
       "      <td id=\"T_330eb_row3_col6\" class=\"data row3 col6\" >0.093375</td>\n",
       "      <td id=\"T_330eb_row3_col7\" class=\"data row3 col7\" >0.105702</td>\n",
       "      <td id=\"T_330eb_row3_col8\" class=\"data row3 col8\" >0.073176</td>\n",
       "      <td id=\"T_330eb_row3_col9\" class=\"data row3 col9\" >-0.016152</td>\n",
       "    </tr>\n",
       "    <tr>\n",
       "      <th id=\"T_330eb_level0_row4\" class=\"row_heading level0 row4\" >college mark</th>\n",
       "      <td id=\"T_330eb_row4_col0\" class=\"data row4 col0\" >-0.018535</td>\n",
       "      <td id=\"T_330eb_row4_col1\" class=\"data row4 col1\" >-0.014901</td>\n",
       "      <td id=\"T_330eb_row4_col2\" class=\"data row4 col2\" >0.466234</td>\n",
       "      <td id=\"T_330eb_row4_col3\" class=\"data row4 col3\" >0.425123</td>\n",
       "      <td id=\"T_330eb_row4_col4\" class=\"data row4 col4\" >1.000000</td>\n",
       "      <td id=\"T_330eb_row4_col5\" class=\"data row4 col5\" >-0.103034</td>\n",
       "      <td id=\"T_330eb_row4_col6\" class=\"data row4 col6\" >0.203160</td>\n",
       "      <td id=\"T_330eb_row4_col7\" class=\"data row4 col7\" >0.095229</td>\n",
       "      <td id=\"T_330eb_row4_col8\" class=\"data row4 col8\" >0.021712</td>\n",
       "      <td id=\"T_330eb_row4_col9\" class=\"data row4 col9\" >-0.036986</td>\n",
       "    </tr>\n",
       "    <tr>\n",
       "      <th id=\"T_330eb_level0_row5\" class=\"row_heading level0 row5\" >salary expectation</th>\n",
       "      <td id=\"T_330eb_row5_col0\" class=\"data row5 col0\" >-0.010708</td>\n",
       "      <td id=\"T_330eb_row5_col1\" class=\"data row5 col1\" >-0.087787</td>\n",
       "      <td id=\"T_330eb_row5_col2\" class=\"data row5 col2\" >-0.055694</td>\n",
       "      <td id=\"T_330eb_row5_col3\" class=\"data row5 col3\" >-0.085610</td>\n",
       "      <td id=\"T_330eb_row5_col4\" class=\"data row5 col4\" >-0.103034</td>\n",
       "      <td id=\"T_330eb_row5_col5\" class=\"data row5 col5\" >1.000000</td>\n",
       "      <td id=\"T_330eb_row5_col6\" class=\"data row5 col6\" >-0.029725</td>\n",
       "      <td id=\"T_330eb_row5_col7\" class=\"data row5 col7\" >0.071313</td>\n",
       "      <td id=\"T_330eb_row5_col8\" class=\"data row5 col8\" >-0.002170</td>\n",
       "      <td id=\"T_330eb_row5_col9\" class=\"data row5 col9\" >-0.081795</td>\n",
       "    </tr>\n",
       "    <tr>\n",
       "      <th id=\"T_330eb_level0_row6\" class=\"row_heading level0 row6\" >rating(career based on degree)</th>\n",
       "      <td id=\"T_330eb_row6_col0\" class=\"data row6 col0\" >-0.050653</td>\n",
       "      <td id=\"T_330eb_row6_col1\" class=\"data row6 col1\" >0.015577</td>\n",
       "      <td id=\"T_330eb_row6_col2\" class=\"data row6 col2\" >0.087066</td>\n",
       "      <td id=\"T_330eb_row6_col3\" class=\"data row6 col3\" >0.093375</td>\n",
       "      <td id=\"T_330eb_row6_col4\" class=\"data row6 col4\" >0.203160</td>\n",
       "      <td id=\"T_330eb_row6_col5\" class=\"data row6 col5\" >-0.029725</td>\n",
       "      <td id=\"T_330eb_row6_col6\" class=\"data row6 col6\" >1.000000</td>\n",
       "      <td id=\"T_330eb_row6_col7\" class=\"data row6 col7\" >0.246110</td>\n",
       "      <td id=\"T_330eb_row6_col8\" class=\"data row6 col8\" >-0.078180</td>\n",
       "      <td id=\"T_330eb_row6_col9\" class=\"data row6 col9\" >0.035946</td>\n",
       "    </tr>\n",
       "    <tr>\n",
       "      <th id=\"T_330eb_level0_row7\" class=\"row_heading level0 row7\" >rating(daily studing time)</th>\n",
       "      <td id=\"T_330eb_row7_col0\" class=\"data row7 col0\" >0.074065</td>\n",
       "      <td id=\"T_330eb_row7_col1\" class=\"data row7 col1\" >-0.081789</td>\n",
       "      <td id=\"T_330eb_row7_col2\" class=\"data row7 col2\" >0.062460</td>\n",
       "      <td id=\"T_330eb_row7_col3\" class=\"data row7 col3\" >0.105702</td>\n",
       "      <td id=\"T_330eb_row7_col4\" class=\"data row7 col4\" >0.095229</td>\n",
       "      <td id=\"T_330eb_row7_col5\" class=\"data row7 col5\" >0.071313</td>\n",
       "      <td id=\"T_330eb_row7_col6\" class=\"data row7 col6\" >0.246110</td>\n",
       "      <td id=\"T_330eb_row7_col7\" class=\"data row7 col7\" >1.000000</td>\n",
       "      <td id=\"T_330eb_row7_col8\" class=\"data row7 col8\" >-0.000422</td>\n",
       "      <td id=\"T_330eb_row7_col9\" class=\"data row7 col9\" >0.066883</td>\n",
       "    </tr>\n",
       "    <tr>\n",
       "      <th id=\"T_330eb_level0_row8\" class=\"row_heading level0 row8\" >rating(SM & VG time)</th>\n",
       "      <td id=\"T_330eb_row8_col0\" class=\"data row8 col0\" >-0.083165</td>\n",
       "      <td id=\"T_330eb_row8_col1\" class=\"data row8 col1\" >0.113478</td>\n",
       "      <td id=\"T_330eb_row8_col2\" class=\"data row8 col2\" >0.060142</td>\n",
       "      <td id=\"T_330eb_row8_col3\" class=\"data row8 col3\" >0.073176</td>\n",
       "      <td id=\"T_330eb_row8_col4\" class=\"data row8 col4\" >0.021712</td>\n",
       "      <td id=\"T_330eb_row8_col5\" class=\"data row8 col5\" >-0.002170</td>\n",
       "      <td id=\"T_330eb_row8_col6\" class=\"data row8 col6\" >-0.078180</td>\n",
       "      <td id=\"T_330eb_row8_col7\" class=\"data row8 col7\" >-0.000422</td>\n",
       "      <td id=\"T_330eb_row8_col8\" class=\"data row8 col8\" >1.000000</td>\n",
       "      <td id=\"T_330eb_row8_col9\" class=\"data row8 col9\" >-0.012589</td>\n",
       "    </tr>\n",
       "    <tr>\n",
       "      <th id=\"T_330eb_level0_row9\" class=\"row_heading level0 row9\" >rating(Travelling Time)</th>\n",
       "      <td id=\"T_330eb_row9_col0\" class=\"data row9 col0\" >0.136579</td>\n",
       "      <td id=\"T_330eb_row9_col1\" class=\"data row9 col1\" >0.056285</td>\n",
       "      <td id=\"T_330eb_row9_col2\" class=\"data row9 col2\" >0.034265</td>\n",
       "      <td id=\"T_330eb_row9_col3\" class=\"data row9 col3\" >-0.016152</td>\n",
       "      <td id=\"T_330eb_row9_col4\" class=\"data row9 col4\" >-0.036986</td>\n",
       "      <td id=\"T_330eb_row9_col5\" class=\"data row9 col5\" >-0.081795</td>\n",
       "      <td id=\"T_330eb_row9_col6\" class=\"data row9 col6\" >0.035946</td>\n",
       "      <td id=\"T_330eb_row9_col7\" class=\"data row9 col7\" >0.066883</td>\n",
       "      <td id=\"T_330eb_row9_col8\" class=\"data row9 col8\" >-0.012589</td>\n",
       "      <td id=\"T_330eb_row9_col9\" class=\"data row9 col9\" >1.000000</td>\n",
       "    </tr>\n",
       "  </tbody>\n",
       "</table>\n"
      ],
      "text/plain": [
       "<pandas.io.formats.style.Styler at 0x153b110feb8>"
      ]
     },
     "execution_count": 134,
     "metadata": {},
     "output_type": "execute_result"
    }
   ],
   "source": [
    "corr_matrix = df.corr('pearson')\n",
    "corr_matrix.style.background_gradient(cmap='coolwarm')"
   ]
  },
  {
   "cell_type": "markdown",
   "id": "0310a1ae",
   "metadata": {},
   "source": [
    "#### From above correlation plot I can see 10, 11, and college marks are in good correlation also with increase in daily study time, possibility of choosing their career based on their degree increase which means they are definitly focused on there career\n",
    "#### Also intresting thing I can see weight relation with social media and video game time which which is obvious because this work one do while seating on chair or couch and will definilty increase weight"
   ]
  },
  {
   "cell_type": "markdown",
   "id": "a241f3ee",
   "metadata": {},
   "source": [
    "## 5.7 Can hobbie effect the marks?"
   ]
  },
  {
   "cell_type": "code",
   "execution_count": 140,
   "id": "b7ce29d4",
   "metadata": {},
   "outputs": [
    {
     "data": {
      "text/plain": [
       "array([  40000,   15000,   13000, 1500000,   50000,   20000,   25000,\n",
       "         18000,      17,   60000,       0,   30000,   10000,   17000,\n",
       "        100000,    8000,   12000,      21,   35000,   16000,    5000,\n",
       "         12500,   11000,  120000,   45000,   23000,  500000,  700000,\n",
       "            10,      15,      22,     100,     500,    7000], dtype=int64)"
      ]
     },
     "execution_count": 140,
     "metadata": {},
     "output_type": "execute_result"
    }
   ],
   "source": [
    "df['salary expectation'].unique()"
   ]
  },
  {
   "cell_type": "code",
   "execution_count": 162,
   "id": "2907ff76",
   "metadata": {},
   "outputs": [
    {
     "name": "stdout",
     "output_type": "stream",
     "text": [
      "Good scoring student hobbie: \n",
      " Cinema           35\n",
      "Sports           23\n",
      "Reading books    18\n",
      "Video Games       9\n",
      "Name: hobbies, dtype: int64 \n",
      "\n",
      "Average scoring student hobbie: \n",
      " Sports           60\n",
      "Cinema           46\n",
      "Video Games      30\n",
      "Reading books    20\n",
      "Name: hobbies, dtype: int64 \n",
      "\n",
      "Low scoring student hobbie: \n",
      " Sports           9\n",
      "Cinema           8\n",
      "Reading books    5\n",
      "Video Games      2\n",
      "Name: hobbies, dtype: int64\n"
     ]
    }
   ],
   "source": [
    "print('Good scoring student hobbie: \\n',df['hobbies'][df['college mark']>=80].value_counts(),'\\n')\n",
    "print('Average scoring student hobbie: \\n',df['hobbies'][(df['college mark']>=60) & (df['college mark']<=80)].value_counts(),'\\n')\n",
    "print('Low scoring student hobbie: \\n', df['hobbies'][df['college mark']<=50].value_counts())"
   ]
  },
  {
   "cell_type": "markdown",
   "id": "3be69f81",
   "metadata": {},
   "source": [
    "#### From the calculation from the data and also in my view hobbie do not effect much in our academic marks"
   ]
  },
  {
   "cell_type": "markdown",
   "id": "b046ac57",
   "metadata": {},
   "source": [
    "<h1></h1>"
   ]
  },
  {
   "cell_type": "markdown",
   "id": "a57953fc",
   "metadata": {},
   "source": [
    "<h1>----------------------------------------------------XXX----------------------------------------------------</h1>"
   ]
  },
  {
   "cell_type": "code",
   "execution_count": null,
   "id": "b00c4465",
   "metadata": {},
   "outputs": [],
   "source": []
  }
 ],
 "metadata": {
  "kernelspec": {
   "display_name": "Python 3 (ipykernel)",
   "language": "python",
   "name": "python3"
  },
  "language_info": {
   "codemirror_mode": {
    "name": "ipython",
    "version": 3
   },
   "file_extension": ".py",
   "mimetype": "text/x-python",
   "name": "python",
   "nbconvert_exporter": "python",
   "pygments_lexer": "ipython3",
   "version": "3.7.3"
  }
 },
 "nbformat": 4,
 "nbformat_minor": 5
}
